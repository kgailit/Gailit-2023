{
 "cells": [
  {
   "cell_type": "markdown",
   "metadata": {
    "colab_type": "text",
    "id": "ilcqSjGaiFQs"
   },
   "source": [
    "# Praktikum 0. Tarkvara paigaldamise testimine"
   ]
  },
  {
   "cell_type": "markdown",
   "metadata": {
    "colab_type": "text",
    "id": "R5IUlNQV7wkc"
   },
   "source": [
    "## 1. Koodiplokk EstNLTK kasutamiseks Colabis\n",
    "Kaks varianti, valige soovitavalt esimene."
   ]
  },
  {
   "cell_type": "markdown",
   "metadata": {
    "colab_type": "text",
    "id": "VFFKfqDJ1jYe"
   },
   "source": [
    "### EstNLTK 1.4 Colabis"
   ]
  },
  {
   "cell_type": "code",
   "execution_count": 0,
   "metadata": {
    "colab": {
     "base_uri": "https://localhost:8080/",
     "height": 1000
    },
    "colab_type": "code",
    "id": "8HtNmOg_1n-g",
    "outputId": "732d69b2-3501-440d-8b7b-1c37c8a59801"
   },
   "outputs": [
    {
     "name": "stdout",
     "output_type": "stream",
     "text": [
      "--2020-02-12 05:26:00--  https://repo.continuum.io/miniconda/Miniconda3-3.5.5-Linux-x86_64.sh\n",
      "Resolving repo.continuum.io (repo.continuum.io)... 104.18.200.79, 104.18.201.79, 2606:4700::6812:c94f, ...\n",
      "Connecting to repo.continuum.io (repo.continuum.io)|104.18.200.79|:443... connected.\n",
      "HTTP request sent, awaiting response... 200 OK\n",
      "Length: 31457606 (30M) [application/x-sh]\n",
      "Saving to: ‘Miniconda3-3.5.5-Linux-x86_64.sh’\n",
      "\n",
      "Miniconda3-3.5.5-Li 100%[===================>]  30.00M   115MB/s    in 0.3s    \n",
      "\n",
      "2020-02-12 05:26:01 (115 MB/s) - ‘Miniconda3-3.5.5-Linux-x86_64.sh’ saved [31457606/31457606]\n",
      "\n",
      "PREFIX=/usr/local\n",
      "installing: python-3.4.1-0 ...\n",
      "installing: openssl-1.0.1h-0 ...\n",
      "installing: pycosat-0.6.1-py34_0 ...\n",
      "installing: pyyaml-3.11-py34_0 ...\n",
      "installing: readline-6.2-2 ...\n",
      "installing: requests-2.3.0-py34_0 ...\n",
      "installing: sqlite-3.8.4.1-0 ...\n",
      "installing: system-5.8-1 ...\n",
      "installing: tk-8.5.15-0 ...\n",
      "installing: yaml-0.1.4-0 ...\n",
      "installing: zlib-1.2.7-0 ...\n",
      "installing: conda-3.5.5-py34_0 ...\n",
      "Python 3.4.1 :: Continuum Analytics, Inc.\n",
      "creating default environment...\n",
      "WARNING:__main__:file already exists: '/usr/local/bin/python'\n",
      "installation finished.\n",
      "WARNING:\n",
      "    You currently have a PYTHONPATH environment variable set. This may cause\n",
      "    unexpected behavior when running the Python interpreter in Miniconda3.\n",
      "    For best results, please verify that your PYTHONPATH only points to\n",
      "    directories of packages that are compatible with the Python interpreter\n",
      "    in Miniconda3: /usr/local\n",
      "Fetching package metadata: ..\n",
      "Solving package specifications: .\n",
      "Package plan for installation in environment /usr/local:\n",
      "\n",
      "The following packages will be downloaded:\n",
      "\n",
      "    package                    |            build\n",
      "    ---------------------------|-----------------\n",
      "    asn1crypto-0.22.0          |           py35_0         149 KB\n",
      "    certifi-2016.2.28          |           py35_0         213 KB\n",
      "    cffi-1.10.0                |           py35_0         342 KB\n",
      "    conda-4.3.30               |   py35hf9359ed_0         516 KB\n",
      "    conda-env-2.6.0            |                0          502 B\n",
      "    cryptography-1.8.1         |           py35_0         846 KB\n",
      "    idna-2.6                   |           py35_0         123 KB\n",
      "    libffi-3.2.1               |                1          38 KB\n",
      "    openssl-1.0.2l             |                0         3.2 MB\n",
      "    packaging-16.8             |           py35_0          31 KB\n",
      "    pycosat-0.6.2              |           py35_0         197 KB\n",
      "    pycparser-2.18             |           py35_0         168 KB\n",
      "    pyopenssl-17.0.0           |           py35_0          76 KB\n",
      "    pyparsing-2.2.0            |           py35_0          96 KB\n",
      "    python-3.5.4               |                0        15.9 MB\n",
      "    requests-2.14.2            |           py35_0         723 KB\n",
      "    ruamel_yaml-0.11.14        |           py35_1         395 KB\n",
      "    setuptools-36.4.0          |           py35_1         567 KB\n",
      "    six-1.10.0                 |           py35_0          17 KB\n",
      "    sqlite-3.13.0              |                0         4.0 MB\n",
      "    tk-8.5.18                  |                0         1.9 MB\n",
      "    xz-5.2.3                   |                0         667 KB\n",
      "    yaml-0.1.6                 |                0         246 KB\n",
      "    zlib-1.2.11                |                0         109 KB\n",
      "    ------------------------------------------------------------\n",
      "                                           Total:        30.4 MB\n",
      "\n",
      "The following packages will be UN-linked:\n",
      "\n",
      "    package                    |            build\n",
      "    ---------------------------|-----------------\n",
      "    conda-3.5.5                |           py34_0\n",
      "    openssl-1.0.1h             |                0\n",
      "    pycosat-0.6.1              |           py34_0\n",
      "    python-3.4.1               |                0\n",
      "    requests-2.3.0             |           py34_0\n",
      "    sqlite-3.8.4.1             |                0\n",
      "    tk-8.5.15                  |                0\n",
      "    yaml-0.1.4                 |                0\n",
      "    zlib-1.2.7                 |                0\n",
      "\n",
      "The following packages will be linked:\n",
      "\n",
      "    package                    |            build\n",
      "    ---------------------------|-----------------\n",
      "    asn1crypto-0.22.0          |           py35_0   hard-link\n",
      "    certifi-2016.2.28          |           py35_0   hard-link\n",
      "    cffi-1.10.0                |           py35_0   hard-link\n",
      "    conda-4.3.30               |   py35hf9359ed_0   hard-link\n",
      "    conda-env-2.6.0            |                0   hard-link\n",
      "    cryptography-1.8.1         |           py35_0   hard-link\n",
      "    idna-2.6                   |           py35_0   hard-link\n",
      "    libffi-3.2.1               |                1   hard-link\n",
      "    openssl-1.0.2l             |                0   hard-link\n",
      "    packaging-16.8             |           py35_0   hard-link\n",
      "    pycosat-0.6.2              |           py35_0   hard-link\n",
      "    pycparser-2.18             |           py35_0   hard-link\n",
      "    pyopenssl-17.0.0           |           py35_0   hard-link\n",
      "    pyparsing-2.2.0            |           py35_0   hard-link\n",
      "    python-3.5.4               |                0   hard-link\n",
      "    requests-2.14.2            |           py35_0   hard-link\n",
      "    ruamel_yaml-0.11.14        |           py35_1   hard-link\n",
      "    setuptools-36.4.0          |           py35_1   hard-link\n",
      "    six-1.10.0                 |           py35_0   hard-link\n",
      "    sqlite-3.13.0              |                0   hard-link\n",
      "    tk-8.5.18                  |                0   hard-link\n",
      "    xz-5.2.3                   |                0   hard-link\n",
      "    yaml-0.1.6                 |                0   hard-link\n",
      "    zlib-1.2.11                |                0   hard-link\n",
      "\n",
      "Proceed ([y]/n)? y\n",
      "\n",
      "\n",
      "\n",
      "Package plan for installation in environment /usr/local:\n",
      "\n",
      "The following NEW packages will be INSTALLED:\n",
      "\n",
      "    _libgcc_mutex: 0.1-main                       \n",
      "    libgcc-ng:     9.1.0-hdf63c60_0               \n",
      "    nltk:          3.3.0-py35_0                   \n",
      "    pip:           10.0.1-py35_0                  \n",
      "    wheel:         0.31.1-py35_0                  \n",
      "\n",
      "The following packages will be UPDATED:\n",
      "\n",
      "    conda:         4.3.30-py35hf9359ed_0           --> 4.5.11-py35_0       \n",
      "    conda-env:     2.6.0-0                         --> 2.6.0-1             \n",
      "    pycosat:       0.6.2-py35_0                    --> 0.6.3-py35h14c3975_0\n",
      "    pyyaml:        3.11-py34_0           <unknown> --> 3.12-py35h46ef4ae_1 \n",
      "\n",
      "Solving environment: - \b\b\\ \b\b| \b\b/ \b\b- \b\b\\ \b\b| \b\b/ \b\b- \b\b\\ \b\b| \b\b/ \b\b- \b\b\\ \b\b| \b\b/ \b\b- \b\b\\ \b\b| \b\b/ \b\b- \b\b\\ \b\b| \b\b/ \b\b- \b\b\\ \b\b| \b\b/ \b\b- \b\b\\ \b\b| \b\b/ \b\b- \b\b\\ \b\b| \b\b/ \b\b- \b\b\\ \b\b| \b\b/ \b\b- \b\b\\ \b\b| \b\b/ \b\b- \b\b\\ \b\b| \b\b/ \b\b- \b\b\\ \b\b| \b\b/ \b\b- \b\b\\ \b\b| \b\b/ \b\b- \b\b\\ \b\b| \b\b/ \b\b- \b\b\\ \b\b| \b\b/ \b\b- \b\b\\ \b\b| \b\b/ \b\b- \b\b\\ \b\b| \b\b/ \b\b- \b\b\\ \b\b| \b\b/ \b\b- \b\b\\ \b\b| \b\b/ \b\b- \b\b\\ \b\b| \b\b/ \b\b- \b\b\\ \b\b| \b\b/ \b\b- \b\b\\ \b\b| \b\b/ \b\b- \b\b\\ \b\b| \b\b/ \b\b- \b\b\\ \b\b| \b\b/ \b\b- \b\b\\ \b\b| \b\b/ \b\b- \b\b\\ \b\b| \b\b/ \b\b- \b\b\\ \b\b| \b\b/ \b\b- \b\b\\ \b\b| \b\b/ \b\b- \b\b\\ \b\b| \b\b/ \b\b- \b\b\\ \b\b| \b\b/ \b\b- \b\b\\ \b\b| \b\b/ \b\b- \b\b\\ \b\b| \b\b/ \b\b- \b\b\\ \b\b| \b\b/ \b\b- \b\b\\ \b\b| \b\b/ \b\b- \b\b\\ \b\b| \b\b/ \b\b- \b\b\\ \b\b| \b\b/ \b\b- \b\b\\ \b\b| \b\b/ \b\b- \b\b\\ \b\b| \b\b/ \b\b- \b\b\\ \b\b| \b\b/ \b\b- \b\b\\ \b\b| \b\b/ \b\b- \b\b\\ \b\b| \b\b/ \b\b- \b\b\\ \b\b| \b\b/ \b\b- \b\b\\ \b\b| \b\b/ \b\b- \b\b\\ \b\b| \b\b/ \b\b- \b\b\\ \b\b| \b\b/ \b\b- \b\b\\ \b\b| \b\b/ \b\b- \b\b\\ \b\b| \b\b/ \b\b- \b\b\\ \b\b| \b\b/ \b\b- \b\b\\ \b\b| \b\b/ \b\b- \b\b\\ \b\b| \b\b/ \b\b- \b\b\\ \b\b| \b\b/ \b\b- \b\b\\ \b\b| \b\b/ \b\b- \b\b\\ \b\b| \b\b/ \b\b- \b\b\\ \b\b| \b\b/ \b\b- \b\b\\ \b\b| \b\b/ \b\b- \b\b\\ \b\b| \b\b/ \b\b- \b\b\\ \b\b| \b\b/ \b\b- \b\b\\ \b\b| \b\b/ \b\b- \b\b\\ \b\b| \b\b/ \b\b- \b\b\\ \b\b| \b\b/ \b\b- \b\b\\ \b\b| \b\b/ \b\b- \b\b\\ \b\b| \b\b/ \b\b- \b\b\\ \b\b| \b\b/ \b\b- \b\b\\ \b\b| \b\b/ \b\b- \b\b\\ \b\b| \b\b/ \b\b- \b\b\\ \b\b| \b\b/ \b\b- \b\b\\ \b\b| \b\b/ \b\b- \b\b\\ \b\b| \b\b/ \b\b- \b\b\\ \b\b| \b\b/ \b\b- \b\b\\ \b\b| \b\b/ \b\b- \b\b\\ \b\b| \b\b/ \b\b- \b\b\\ \b\b| \b\b/ \b\b- \b\b\\ \b\b| \b\b/ \b\b- \b\b\\ \b\b| \b\b/ \b\b- \b\b\\ \b\b| \b\b/ \b\b- \b\b\\ \b\b| \b\b/ \b\b- \b\b\\ \b\b| \b\b/ \b\b- \b\b\\ \b\b| \b\b/ \b\b- \b\b\\ \b\b| \b\b/ \b\b- \b\b\\ \b\b| \b\b/ \b\b- \b\b\\ \b\b| \b\b/ \b\b- \b\b\\ \b\b| \b\b/ \b\b- \b\b\\ \b\b| \b\b/ \b\b- \b\b\\ \b\b| \b\b/ \b\b- \b\b\\ \b\b| \b\b/ \b\b- \b\b\\ \b\b| \b\b/ \b\b- \b\b\\ \b\b| \b\b/ \b\b- \b\b\\ \b\b| \b\b/ \b\b- \b\b\\ \b\b| \b\b/ \b\b- \b\b\\ \b\b| \b\b/ \b\b- \b\b\\ \b\b| \b\b/ \b\b- \b\b\\ \b\b| \b\b/ \b\b- \b\b\\ \b\b| \b\b/ \b\b- \b\b\\ \b\b| \b\b/ \b\b- \b\b\\ \b\b| \b\b/ \b\b- \b\b\\ \b\b| \b\b/ \b\b- \b\b\\ \b\b| \b\b/ \b\b- \b\b\\ \b\b| \b\b/ \b\b- \b\b\\ \b\b| \b\b/ \b\b- \b\b\\ \b\b| \b\b/ \b\b- \b\b\\ \b\b| \b\b/ \b\b- \b\b\\ \b\b| \b\b/ \b\b- \b\b\\ \b\b| \b\b/ \b\b- \b\b\\ \b\b| \b\b/ \b\b- \b\b\\ \b\b| \b\b/ \b\b- \b\b\\ \b\b| \b\b/ \b\b- \b\b\\ \b\b| \b\b/ \b\b- \b\b\\ \b\b| \b\b/ \b\b- \b\b\\ \b\b| \b\b/ \b\b- \b\b\\ \b\b| \b\b/ \b\b- \b\b\\ \b\b| \b\b/ \b\b- \b\b\\ \b\b| \b\b/ \b\b- \b\b\\ \b\b| \b\b/ \b\b- \b\b\\ \b\b| \b\b/ \b\b- \b\b\\ \b\b| \b\b/ \b\b- \b\b\\ \b\b| \b\b/ \b\b- \b\b\\ \b\b| \b\b/ \b\b- \b\b\\ \b\b| \b\b/ \b\b- \b\b\\ \b\b| \b\b/ \b\b- \b\b\\ \b\b| \b\b/ \b\b- \b\b\\ \b\b| \b\b/ \b\b- \b\b\\ \b\b| \b\b/ \b\b- \b\b\\ \b\b| \b\b/ \b\b- \b\b\\ \b\b| \b\b/ \b\b- \b\b\\ \b\b| \b\b/ \b\b- \b\b\\ \b\b| \b\b/ \b\b- \b\b\\ \b\b| \b\b/ \b\b- \b\b\\ \b\b| \b\b/ \b\b- \b\b\\ \b\b| \b\b/ \b\b- \b\b\\ \b\b| \b\b/ \b\b- \b\b\\ \b\b| \b\b/ \b\b- \b\b\\ \b\b| \b\b/ \b\b- \b\b\\ \b\b| \b\b/ \b\b- \b\b\\ \b\b| \b\b/ \b\b- \b\b\\ \b\b| \b\b/ \b\b- \b\b\\ \b\b| \b\b/ \b\b- \b\b\\ \b\b| \b\b/ \b\b- \b\b\\ \b\b| \b\b/ \b\b- \b\b\\ \b\b| \b\b/ \b\b- \b\b\\ \b\b| \b\b/ \b\b- \b\b\\ \b\b| \b\b/ \b\b- \b\b\\ \b\b| \b\b/ \b\b- \b\b\\ \b\b| \b\b/ \b\b- \b\b\\ \b\b| \b\b/ \b\b- \b\b\\ \b\b| \b\b/ \b\b- \b\b\\ \b\b| \b\b/ \b\b- \b\b\\ \b\b| \b\b/ \b\b- \b\b\\ \b\b| \b\b/ \b\b- \b\b\\ \b\b| \b\b/ \b\b- \b\b\\ \b\b| \b\b/ \b\b- \b\b\\ \b\b| \b\b/ \b\b- \b\b\\ \b\b| \b\b/ \b\b- \b\b\\ \b\b| \b\b/ \b\b- \b\b\\ \b\b| \b\b/ \b\b- \b\b\\ \b\b| \b\b/ \b\b- \b\b\\ \b\b| \b\b/ \b\b- \b\b\\ \b\b| \b\b/ \b\b- \b\b\\ \b\b| \b\b/ \b\b- \b\b\\ \b\b| \b\b/ \b\b- \b\b\\ \b\b| \b\b/ \b\b- \b\b\\ \b\b| \b\b/ \b\b- \b\b\\ \b\b| \b\b/ \b\b- \b\b\\ \b\b| \b\b/ \b\b- \b\b\\ \b\b| \b\b/ \b\b- \b\b\\ \b\b| \b\b/ \b\b- \b\b\\ \b\b| \b\b/ \b\b- \b\b\\ \b\b| \b\b/ \b\b- \b\b\\ \b\b| \b\b/ \b\b- \b\b\\ \b\b| \b\b/ \b\b- \b\b\\ \b\b| \b\b/ \b\b- \b\b\\ \b\b| \b\b/ \b\b- \b\b\\ \b\b| \b\b/ \b\b- \b\b\\ \b\b| \b\b/ \b\b- \b\b\\ \b\b| \b\b/ \b\b- \b\b\\ \b\b| \b\b/ \b\b- \b\b\\ \b\b| \b\b/ \b\b- \b\b\\ \b\b| \b\b/ \b\b- \b\b\\ \b\b| \b\b/ \b\b- \b\b\\ \b\b| \b\b/ \b\b- \b\b\\ \b\b| \b\b/ \b\b- \b\b\\ \b\b| \b\b/ \b\b- \b\b\\ \b\b| \b\b/ \b\b- \b\b\\ \b\b| \b\b/ \b\b- \b\b\\ \b\b| \b\b/ \b\b- \b\b\\ \b\b| \b\b/ \b\b- \b\b\\ \b\b| \b\b/ \b\b- \b\b\\ \b\b| \b\b/ \b\b- \b\b\\ \b\b| \b\b/ \b\b- \b\b\\ \b\b| \b\b/ \b\b- \b\b\\ \b\b| \b\b/ \b\b- \b\b\\ \b\b| \b\b/ \b\b- \b\b\\ \b\b| \b\bdone\n",
      "\n",
      "\n",
      "==> WARNING: A newer version of conda exists. <==\n",
      "  current version: 4.5.11\n",
      "  latest version: 4.8.2\n",
      "\n",
      "Please update conda by running\n",
      "\n",
      "    $ conda update -n base -c defaults conda\n",
      "\n",
      "\n",
      "\n",
      "## Package Plan ##\n",
      "\n",
      "  environment location: /usr/local\n",
      "\n",
      "  added / updated specs: \n",
      "    - estnltk=1.4.1\n",
      "\n",
      "\n",
      "The following packages will be downloaded:\n",
      "\n",
      "    package                    |            build\n",
      "    ---------------------------|-----------------\n",
      "    libopenblas-0.3.7          |       h5ec1e0e_6         7.6 MB  conda-forge\n",
      "    liblapacke-3.8.0           |      14_openblas          10 KB  conda-forge\n",
      "    python-dateutil-2.8.1      |             py_0         220 KB  conda-forge\n",
      "    pyahocorasick-1.1.6        |           py35_0          66 KB  estnltk\n",
      "    conda-4.5.11               |           py35_0         636 KB  conda-forge\n",
      "    elasticsearch-2.4.0        |             py_1          40 KB  conda-forge\n",
      "    pytz-2019.3                |             py_0         237 KB  conda-forge\n",
      "    python-crfsuite-0.9.2      |           py35_0         723 KB  estnltk\n",
      "    pandas-0.23.4              |   py35hf8a1672_0        27.2 MB  conda-forge\n",
      "    libstdcxx-ng-9.2.0         |       hdf63c60_2         4.5 MB  conda-forge\n",
      "    numpy-base-1.15.2          |   py35h2f8d375_0         4.2 MB\n",
      "    certifi-2018.8.24          |        py35_1001         139 KB  conda-forge\n",
      "    html5lib-1.0.1             |             py_0          89 KB  conda-forge\n",
      "    urllib3-1.12               |           py35_0         151 KB  estnltk\n",
      "    libgfortran-ng-7.3.0       |       hdf63c60_5         1.7 MB  conda-forge\n",
      "    cached-property-1.3.0      |           py35_0           5 KB  estnltk\n",
      "    numpy-1.15.2               |   py35h99e49ec_0          47 KB\n",
      "    ca-certificates-2019.11.28 |       hecc5488_0         145 KB  conda-forge\n",
      "    libcblas-3.8.0             |      14_openblas          10 KB  conda-forge\n",
      "    libblas-3.8.0              |      14_openblas          10 KB  conda-forge\n",
      "    openssl-1.0.2u             |       h516909a_0         3.2 MB  conda-forge\n",
      "    blas-2.14                  |         openblas          10 KB  conda-forge\n",
      "    liblapack-3.8.0            |      14_openblas          10 KB  conda-forge\n",
      "    estnltk-1.4.1              |              3.5        63.4 MB  estnltk\n",
      "    regex-2015.11.22           |           py35_1         652 KB  estnltk\n",
      "    beautifulsoup4-4.6.3       |           py35_0         139 KB  conda-forge\n",
      "    webencodings-0.5.1         |             py_1          12 KB  conda-forge\n",
      "    ------------------------------------------------------------\n",
      "                                           Total:       115.0 MB\n",
      "\n",
      "The following NEW packages will be INSTALLED:\n",
      "\n",
      "    beautifulsoup4:  4.6.3-py35_0          conda-forge\n",
      "    blas:            2.14-openblas         conda-forge\n",
      "    ca-certificates: 2019.11.28-hecc5488_0 conda-forge\n",
      "    cached-property: 1.3.0-py35_0          estnltk    \n",
      "    elasticsearch:   2.4.0-py_1            conda-forge\n",
      "    estnltk:         1.4.1-3.5             estnltk    \n",
      "    html5lib:        1.0.1-py_0            conda-forge\n",
      "    libblas:         3.8.0-14_openblas     conda-forge\n",
      "    libcblas:        3.8.0-14_openblas     conda-forge\n",
      "    libgfortran-ng:  7.3.0-hdf63c60_5      conda-forge\n",
      "    liblapack:       3.8.0-14_openblas     conda-forge\n",
      "    liblapacke:      3.8.0-14_openblas     conda-forge\n",
      "    libopenblas:     0.3.7-h5ec1e0e_6      conda-forge\n",
      "    libstdcxx-ng:    9.2.0-hdf63c60_2      conda-forge\n",
      "    numpy:           1.15.2-py35h99e49ec_0            \n",
      "    numpy-base:      1.15.2-py35h2f8d375_0            \n",
      "    pandas:          0.23.4-py35hf8a1672_0 conda-forge\n",
      "    pyahocorasick:   1.1.6-py35_0          estnltk    \n",
      "    python-crfsuite: 0.9.2-py35_0          estnltk    \n",
      "    python-dateutil: 2.8.1-py_0            conda-forge\n",
      "    pytz:            2019.3-py_0           conda-forge\n",
      "    regex:           2015.11.22-py35_1     estnltk    \n",
      "    urllib3:         1.12-py35_0           estnltk    \n",
      "    webencodings:    0.5.1-py_1            conda-forge\n",
      "\n",
      "The following packages will be UPDATED:\n",
      "\n",
      "    certifi:         2016.2.28-py35_0                  --> 2018.8.24-py35_1001 conda-forge\n",
      "    conda:           4.5.11-py35_0                     --> 4.5.11-py35_0       conda-forge\n",
      "    openssl:         1.0.2l-0                          --> 1.0.2u-h516909a_0   conda-forge\n",
      "\n",
      "Proceed ([y]/n)? y\n",
      "\n",
      "\n",
      "Downloading and Extracting Packages\n",
      "libopenblas-0.3.7    | 7.6 MB    | : 100% 1.0/1 [00:01<00:00,  1.89s/it]               \n",
      "liblapacke-3.8.0     | 10 KB     | : 100% 1.0/1 [00:00<00:00, 22.13it/s]\n",
      "python-dateutil-2.8. | 220 KB    | : 100% 1.0/1 [00:00<00:00, 12.15it/s]\n",
      "pyahocorasick-1.1.6  | 66 KB     | : 100% 1.0/1 [00:00<00:00,  1.72it/s]                \n",
      "conda-4.5.11         | 636 KB    | : 100% 1.0/1 [00:00<00:00,  2.47it/s]               \n",
      "elasticsearch-2.4.0  | 40 KB     | : 100% 1.0/1 [00:00<00:00, 15.01it/s]\n",
      "pytz-2019.3          | 237 KB    | : 100% 1.0/1 [00:00<00:00,  3.39it/s]               \n",
      "python-crfsuite-0.9. | 723 KB    | : 100% 1.0/1 [00:00<00:00,  1.80it/s]               \n",
      "pandas-0.23.4        | 27.2 MB   | : 100% 1.0/1 [00:07<00:00,  7.12s/it]               \n",
      "libstdcxx-ng-9.2.0   | 4.5 MB    | : 100% 1.0/1 [00:00<00:00,  1.05it/s]              \n",
      "numpy-base-1.15.2    | 4.2 MB    | : 100% 1.0/1 [00:01<00:00,  1.55s/it]               \n",
      "certifi-2018.8.24    | 139 KB    | : 100% 1.0/1 [00:00<00:00, 15.61it/s]\n",
      "html5lib-1.0.1       | 89 KB     | : 100% 1.0/1 [00:00<00:00, 12.34it/s]\n",
      "urllib3-1.12         | 151 KB    | : 100% 1.0/1 [00:00<00:00,  2.82it/s]                \n",
      "libgfortran-ng-7.3.0 | 1.7 MB    | : 100% 1.0/1 [00:00<00:00,  2.41it/s]               \n",
      "cached-property-1.3. | 5 KB      | : 100% 1.0/1 [00:00<00:00,  6.44it/s] \n",
      "numpy-1.15.2         | 47 KB     | : 100% 1.0/1 [00:00<00:00, 18.92it/s]\n",
      "ca-certificates-2019 | 145 KB    | : 100% 1.0/1 [00:00<00:00, 14.24it/s]\n",
      "libcblas-3.8.0       | 10 KB     | : 100% 1.0/1 [00:00<00:00, 22.54it/s]\n",
      "libblas-3.8.0        | 10 KB     | : 100% 1.0/1 [00:00<00:00, 24.57it/s]\n",
      "openssl-1.0.2u       | 3.2 MB    | : 100% 1.0/1 [00:00<00:00,  1.18it/s]               \n",
      "blas-2.14            | 10 KB     | : 100% 1.0/1 [00:00<00:00, 22.94it/s]\n",
      "liblapack-3.8.0      | 10 KB     | : 100% 1.0/1 [00:00<00:00, 24.45it/s]\n",
      "estnltk-1.4.1        | 63.4 MB   | : 100% 1.0/1 [00:17<00:00, 17.57s/it]               \n",
      "regex-2015.11.22     | 652 KB    | : 100% 1.0/1 [00:00<00:00,  1.89it/s]               \n",
      "beautifulsoup4-4.6.3 | 139 KB    | : 100% 1.0/1 [00:00<00:00,  9.73it/s]\n",
      "webencodings-0.5.1   | 12 KB     | : 100% 1.0/1 [00:00<00:00, 20.41it/s]\n",
      "Preparing transaction: - \b\b\\ \b\b| \b\bdone\n",
      "Verifying transaction: - \b\b\\ \b\b| \b\b/ \b\b- \b\b\\ \b\b| \b\b/ \b\b- \b\b\\ \b\b| \b\b/ \b\b- \b\b\\ \b\b| \b\b/ \b\b- \b\b\\ \b\b| \b\b/ \b\b- \b\b\\ \b\b| \b\b/ \b\b- \b\b\\ \b\b| \b\b/ \b\b- \b\b\\ \b\b| \b\b/ \b\b- \b\b\\ \b\b| \b\b/ \b\b- \b\b\\ \b\bdone\n",
      "Executing transaction: / \b\b- \b\b\\ \b\b| \b\b/ \b\b- \b\b\\ \b\b| \b\b/ \b\b- \b\b\\ \b\b| \b\b/ \b\b- \b\b\\ \b\b| \b\b/ \b\b- \b\b\\ \b\b| \b\b/ \b\b- \b\b\\ \b\b| \b\b/ \b\b- \b\b\\ \b\b| \b\b/ \b\b- \b\b\\ \b\b| \b\b/ \b\b- \b\b\\ \b\b| \b\b/ \b\b- \b\b\\ \b\b| \b\b/ \b\b- \b\b\\ \b\b| \b\b/ \b\b- \b\b\\ \b\b| \b\b/ \b\b- \b\b\\ \b\b| \b\b/ \b\b- \b\b\\ \b\b| \b\b/ \b\b- \b\b\\ \b\b| \b\b/ \b\b- \b\b\\ \b\b| \b\b/ \b\b- \b\bdone\n"
     ]
    }
   ],
   "source": [
    "# EstNLTK 1.4 kasutamiseks Colabis tuleb...\n",
    "# 1. Laadida alla ja installeerida Miniconda\n",
    "!wget https://repo.continuum.io/miniconda/Miniconda3-3.5.5-Linux-x86_64.sh\n",
    "!chmod +x Miniconda3-3.5.5-Linux-x86_64.sh\n",
    "!bash ./Miniconda3-3.5.5-Linux-x86_64.sh -b -f -p /usr/local\n",
    "#!conda info\n",
    "# 2. Installeerida pythoni sobiv versioon\n",
    "!conda install -q python=3.5\n",
    "#!conda info\n",
    "# 3. Lisada tee\n",
    "import sys\n",
    "sys.path.append('/usr/local/lib/python3.5/site-packages/')\n",
    "# 4. Installeerida NLTK\n",
    "!conda install -q -y nltk\n",
    "# 5. Installeerida EstNLTK ja parandada mõned installeerimisel tekkinud vead\n",
    "!conda install -c estnltk -c conda-forge estnltk=1.4.1\n",
    "!cp /usr/local/lib/python3.5/site-packages/estnltk/vabamorf/_vabamorf.cpython-35m-x86_64-linux-gnu.so /usr/local/lib/python3.5/site-packages/estnltk/vabamorf/_vabamorf.so\n",
    "!cp /usr/local/lib/python3.5/site-packages/pycrfsuite/_pycrfsuite.cpython-35m-x86_64-linux-gnu.so /usr/local/lib/python3.5/site-packages/pycrfsuite/_pycrfsuite.so"
   ]
  },
  {
   "cell_type": "markdown",
   "metadata": {
    "colab_type": "text",
    "id": "XMLPtsuB1oI8"
   },
   "source": [
    "### EstNLTK 1.6 Colabis"
   ]
  },
  {
   "cell_type": "code",
   "execution_count": 0,
   "metadata": {
    "colab": {
     "base_uri": "https://localhost:8080/",
     "height": 1000
    },
    "colab_type": "code",
    "id": "ygsYsSWl7UO5",
    "outputId": "13fdbce2-3ca6-438d-e9c7-b294852b5bf4"
   },
   "outputs": [
    {
     "name": "stdout",
     "output_type": "stream",
     "text": [
      "--2020-02-11 16:55:20--  https://repo.continuum.io/miniconda/Miniconda3-4.5.4-Linux-x86_64.sh\n",
      "Resolving repo.continuum.io (repo.continuum.io)... 104.18.200.79, 104.18.201.79, 2606:4700::6812:c84f, ...\n",
      "Connecting to repo.continuum.io (repo.continuum.io)|104.18.200.79|:443... connected.\n",
      "HTTP request sent, awaiting response... 200 OK\n",
      "Length: 58468498 (56M) [application/x-sh]\n",
      "Saving to: ‘Miniconda3-4.5.4-Linux-x86_64.sh’\n",
      "\n",
      "Miniconda3-4.5.4-Li 100%[===================>]  55.76M  83.5MB/s    in 0.7s    \n",
      "\n",
      "2020-02-11 16:55:26 (83.5 MB/s) - ‘Miniconda3-4.5.4-Linux-x86_64.sh’ saved [58468498/58468498]\n",
      "\n",
      "PREFIX=/usr/local\n",
      "installing: python-3.6.5-hc3d631a_2 ...\n",
      "Python 3.6.5 :: Anaconda, Inc.\n",
      "installing: ca-certificates-2018.03.07-0 ...\n",
      "installing: conda-env-2.6.0-h36134e3_1 ...\n",
      "installing: libgcc-ng-7.2.0-hdf63c60_3 ...\n",
      "installing: libstdcxx-ng-7.2.0-hdf63c60_3 ...\n",
      "installing: libffi-3.2.1-hd88cf55_4 ...\n",
      "installing: ncurses-6.1-hf484d3e_0 ...\n",
      "installing: openssl-1.0.2o-h20670df_0 ...\n",
      "installing: tk-8.6.7-hc745277_3 ...\n",
      "installing: xz-5.2.4-h14c3975_4 ...\n",
      "installing: yaml-0.1.7-had09818_2 ...\n",
      "installing: zlib-1.2.11-ha838bed_2 ...\n",
      "installing: libedit-3.1.20170329-h6b74fdf_2 ...\n",
      "installing: readline-7.0-ha6073c6_4 ...\n",
      "installing: sqlite-3.23.1-he433501_0 ...\n",
      "installing: asn1crypto-0.24.0-py36_0 ...\n",
      "installing: certifi-2018.4.16-py36_0 ...\n",
      "installing: chardet-3.0.4-py36h0f667ec_1 ...\n",
      "installing: idna-2.6-py36h82fb2a8_1 ...\n",
      "installing: pycosat-0.6.3-py36h0a5515d_0 ...\n",
      "installing: pycparser-2.18-py36hf9f622e_1 ...\n",
      "installing: pysocks-1.6.8-py36_0 ...\n",
      "installing: ruamel_yaml-0.15.37-py36h14c3975_2 ...\n",
      "installing: six-1.11.0-py36h372c433_1 ...\n",
      "installing: cffi-1.11.5-py36h9745a5d_0 ...\n",
      "installing: setuptools-39.2.0-py36_0 ...\n",
      "installing: cryptography-2.2.2-py36h14c3975_0 ...\n",
      "installing: wheel-0.31.1-py36_0 ...\n",
      "installing: pip-10.0.1-py36_0 ...\n",
      "installing: pyopenssl-18.0.0-py36_0 ...\n",
      "installing: urllib3-1.22-py36hbe7ace6_0 ...\n",
      "installing: requests-2.18.4-py36he2e5f8d_1 ...\n",
      "installing: conda-4.5.4-py36_0 ...\n",
      "installation finished.\n",
      "WARNING:\n",
      "    You currently have a PYTHONPATH environment variable set. This may cause\n",
      "    unexpected behavior when running the Python interpreter in Miniconda3.\n",
      "    For best results, please verify that your PYTHONPATH only points to\n",
      "    directories of packages that are compatible with the Python interpreter\n",
      "    in Miniconda3: /usr/local\n",
      "Solving environment: ...working... done\n",
      "\n",
      "## Package Plan ##\n",
      "\n",
      "  environment location: /usr/local\n",
      "\n",
      "  added / updated specs: \n",
      "    - python=3.6\n",
      "\n",
      "\n",
      "The following packages will be downloaded:\n",
      "\n",
      "    package                    |            build\n",
      "    ---------------------------|-----------------\n",
      "    sqlite-3.31.1              |       h7b6447c_0         2.0 MB\n",
      "    libstdcxx-ng-9.1.0         |       hdf63c60_0         4.0 MB\n",
      "    python-3.6.10              |       h0371630_0        33.9 MB\n",
      "    setuptools-45.2.0          |           py36_0         659 KB\n",
      "    wheel-0.34.2               |           py36_0          49 KB\n",
      "    _libgcc_mutex-0.1          |             main           3 KB\n",
      "    zlib-1.2.11                |       h7b6447c_3         120 KB\n",
      "    libedit-3.1.20181209       |       hc058e9b_0         188 KB\n",
      "    pip-20.0.2                 |           py36_1         1.9 MB\n",
      "    libgcc-ng-9.1.0            |       hdf63c60_0         8.1 MB\n",
      "    readline-7.0               |       h7b6447c_5         392 KB\n",
      "    openssl-1.1.1d             |       h7b6447c_4         3.7 MB\n",
      "    certifi-2019.11.28         |           py36_0         156 KB\n",
      "    tk-8.6.8                   |       hbc83047_0         3.1 MB\n",
      "    ld_impl_linux-64-2.33.1    |       h53a641e_7         645 KB\n",
      "    ca-certificates-2020.1.1   |                0         132 KB\n",
      "    ncurses-6.1                |       he6710b0_1         958 KB\n",
      "    ------------------------------------------------------------\n",
      "                                           Total:        60.1 MB\n",
      "\n",
      "The following NEW packages will be INSTALLED:\n",
      "\n",
      "    _libgcc_mutex:    0.1-main               \n",
      "    ld_impl_linux-64: 2.33.1-h53a641e_7      \n",
      "\n",
      "The following packages will be UPDATED:\n",
      "\n",
      "    ca-certificates:  2018.03.07-0            --> 2020.1.1-0             \n",
      "    certifi:          2018.4.16-py36_0        --> 2019.11.28-py36_0      \n",
      "    libedit:          3.1.20170329-h6b74fdf_2 --> 3.1.20181209-hc058e9b_0\n",
      "    libgcc-ng:        7.2.0-hdf63c60_3        --> 9.1.0-hdf63c60_0       \n",
      "    libstdcxx-ng:     7.2.0-hdf63c60_3        --> 9.1.0-hdf63c60_0       \n",
      "    ncurses:          6.1-hf484d3e_0          --> 6.1-he6710b0_1         \n",
      "    openssl:          1.0.2o-h20670df_0       --> 1.1.1d-h7b6447c_4      \n",
      "    pip:              10.0.1-py36_0           --> 20.0.2-py36_1          \n",
      "    python:           3.6.5-hc3d631a_2        --> 3.6.10-h0371630_0      \n",
      "    readline:         7.0-ha6073c6_4          --> 7.0-h7b6447c_5         \n",
      "    setuptools:       39.2.0-py36_0           --> 45.2.0-py36_0          \n",
      "    sqlite:           3.23.1-he433501_0       --> 3.31.1-h7b6447c_0      \n",
      "    tk:               8.6.7-hc745277_3        --> 8.6.8-hbc83047_0       \n",
      "    wheel:            0.31.1-py36_0           --> 0.34.2-py36_0          \n",
      "    zlib:             1.2.11-ha838bed_2       --> 1.2.11-h7b6447c_3      \n",
      "\n",
      "Preparing transaction: ...working... done\n",
      "Verifying transaction: ...working... done\n",
      "Executing transaction: ...working... done\n",
      "Solving environment: ...working... done\n",
      "\n",
      "## Package Plan ##\n",
      "\n",
      "  environment location: /usr/local\n",
      "\n",
      "  added / updated specs: \n",
      "    - estnltk\n",
      "\n",
      "\n",
      "The following packages will be downloaded:\n",
      "\n",
      "    package                    |            build\n",
      "    ---------------------------|-----------------\n",
      "    cached-property-1.5.1      |             py_0          10 KB  conda-forge\n",
      "    expat-2.2.9                |       he1b5a44_2         191 KB  conda-forge\n",
      "    libiconv-1.15              |    h516909a_1005         2.0 MB  conda-forge\n",
      "    libpng-1.6.37              |       hed695b0_0         343 KB  conda-forge\n",
      "    fontconfig-2.13.1          |    he4413a7_1000         327 KB  conda-forge\n",
      "    ca-certificates-2019.11.28 |       hecc5488_0         145 KB  conda-forge\n",
      "    liblapack-3.8.0            |      14_openblas          10 KB  conda-forge\n",
      "    traitlets-4.3.3            |           py36_0         133 KB  conda-forge\n",
      "    numpy-1.18.1               |   py36h95a1406_0         5.2 MB  conda-forge\n",
      "    pyqt-5.9.2                 |   py36hcca6a23_4         5.7 MB  conda-forge\n",
      "    ipython_genutils-0.2.0     |             py_1          21 KB  conda-forge\n",
      "    cycler-0.10.0              |             py_2           9 KB  conda-forge\n",
      "    networkx-2.4               |             py_0         1.2 MB  conda-forge\n",
      "    pyopenssl-19.1.0           |           py36_0          83 KB  conda-forge\n",
      "    libblas-3.8.0              |      14_openblas          10 KB  conda-forge\n",
      "    tornado-6.0.3              |   py36h516909a_3         637 KB  conda-forge\n",
      "    pyparsing-2.4.6            |             py_0          59 KB  conda-forge\n",
      "    libopenblas-0.3.7          |       h5ec1e0e_6         7.6 MB  conda-forge\n",
      "    pickleshare-0.7.5          |        py36_1000          12 KB  conda-forge\n",
      "    qt-5.9.7                   |       h52cfd70_2        85.9 MB  conda-forge\n",
      "    glib-2.58.3                |py36h6f030ca_1002         3.3 MB  conda-forge\n",
      "    kiwisolver-1.1.0           |   py36hc9558a2_0          86 KB  conda-forge\n",
      "    soupsieve-1.9.4            |           py36_0          58 KB  conda-forge\n",
      "    jedi-0.16.0                |           py36_0         770 KB  conda-forge\n",
      "    decorator-4.4.1            |             py_0          11 KB  conda-forge\n",
      "    pytz-2019.3                |             py_0         237 KB  conda-forge\n",
      "    pcre-8.43                  |       he1b5a44_0         257 KB  conda-forge\n",
      "    python-crfsuite-0.9.2      |           py36_0         740 KB  estnltk\n",
      "    cryptography-2.8           |   py36h72c5cf5_1         616 KB  conda-forge\n",
      "    ipython-7.12.0             |   py36h5ca1d4c_0         1.1 MB  conda-forge\n",
      "    gstreamer-1.14.5           |       h36ae1b5_2         4.5 MB  conda-forge\n",
      "    urllib3-1.25.7             |           py36_0         160 KB  conda-forge\n",
      "    ptyprocess-0.6.0           |          py_1001          15 KB  conda-forge\n",
      "    beautifulsoup4-4.8.2       |           py36_0         157 KB  conda-forge\n",
      "    libgfortran-ng-7.3.0       |       hdf63c60_5         1.7 MB  conda-forge\n",
      "    wcwidth-0.1.8              |             py_0          19 KB  conda-forge\n",
      "    dbus-1.13.6                |       he372182_0         602 KB  conda-forge\n",
      "    webencodings-0.5.1         |             py_1          12 KB  conda-forge\n",
      "    freetype-2.10.0            |       he983fc9_1         884 KB  conda-forge\n",
      "    nltk-3.4.4                 |             py_0         1.1 MB  conda-forge\n",
      "    pexpect-4.8.0              |           py36_0          79 KB  conda-forge\n",
      "    xorg-libxau-1.0.9          |       h14c3975_0          13 KB  conda-forge\n",
      "    libxslt-1.1.32             |    hae48121_1003         568 KB  conda-forge\n",
      "    lxml-4.4.1                 |   py36h7ec2d77_0         1.6 MB  conda-forge\n",
      "    libuuid-2.32.1             |    h14c3975_1000          26 KB  conda-forge\n",
      "    html5lib-1.0.1             |             py_0          89 KB  conda-forge\n",
      "    pthread-stubs-0.4          |    h14c3975_1001           5 KB  conda-forge\n",
      "    pygments-2.5.2             |             py_0         669 KB  conda-forge\n",
      "    estnltk-1.6.5beta          |              3.6        44.2 MB  estnltk\n",
      "    python-dateutil-2.8.1      |             py_0         220 KB  conda-forge\n",
      "    libcblas-3.8.0             |      14_openblas          10 KB  conda-forge\n",
      "    openssl-1.1.1d             |       h516909a_0         2.1 MB  conda-forge\n",
      "    regex-2020.1.8             |   py36h516909a_0         373 KB  conda-forge\n",
      "    jpeg-9c                    |    h14c3975_1001         251 KB  conda-forge\n",
      "    backcall-0.1.0             |             py_0          13 KB  conda-forge\n",
      "    sip-4.19.8                 |py36hf484d3e_1000         290 KB  conda-forge\n",
      "    libxcb-1.13                |    h14c3975_1002         396 KB  conda-forge\n",
      "    tqdm-4.42.1                |             py_0          47 KB  conda-forge\n",
      "    libxml2-2.9.9              |       h13577e0_2         1.3 MB  conda-forge\n",
      "    parso-0.6.1                |             py_0          66 KB  conda-forge\n",
      "    icu-58.2                   |    hf484d3e_1000        22.6 MB  conda-forge\n",
      "    certifi-2019.11.28         |           py36_0         149 KB  conda-forge\n",
      "    prompt_toolkit-3.0.3       |             py_0         231 KB  conda-forge\n",
      "    matplotlib-3.1.2           |   py36h4fdacc2_0         6.6 MB\n",
      "    pandas-1.0.1               |   py36hb3f55d8_0        11.1 MB  conda-forge\n",
      "    requests-2.22.0            |           py36_1          84 KB  conda-forge\n",
      "    xorg-libxdmcp-1.1.3        |       h516909a_0          18 KB  conda-forge\n",
      "    gettext-0.19.8.1           |    hc5be6a0_1002         3.6 MB  conda-forge\n",
      "    gst-plugins-base-1.14.5    |       h0935bb2_2         6.8 MB  conda-forge\n",
      "    ------------------------------------------------------------\n",
      "                                           Total:       229.1 MB\n",
      "\n",
      "The following NEW packages will be INSTALLED:\n",
      "\n",
      "    backcall:         0.1.0-py_0               conda-forge\n",
      "    beautifulsoup4:   4.8.2-py36_0             conda-forge\n",
      "    cached-property:  1.5.1-py_0               conda-forge\n",
      "    cycler:           0.10.0-py_2              conda-forge\n",
      "    dbus:             1.13.6-he372182_0        conda-forge\n",
      "    decorator:        4.4.1-py_0               conda-forge\n",
      "    estnltk:          1.6.5beta-3.6            estnltk    \n",
      "    expat:            2.2.9-he1b5a44_2         conda-forge\n",
      "    fontconfig:       2.13.1-he4413a7_1000     conda-forge\n",
      "    freetype:         2.10.0-he983fc9_1        conda-forge\n",
      "    gettext:          0.19.8.1-hc5be6a0_1002   conda-forge\n",
      "    glib:             2.58.3-py36h6f030ca_1002 conda-forge\n",
      "    gst-plugins-base: 1.14.5-h0935bb2_2        conda-forge\n",
      "    gstreamer:        1.14.5-h36ae1b5_2        conda-forge\n",
      "    html5lib:         1.0.1-py_0               conda-forge\n",
      "    icu:              58.2-hf484d3e_1000       conda-forge\n",
      "    ipython:          7.12.0-py36h5ca1d4c_0    conda-forge\n",
      "    ipython_genutils: 0.2.0-py_1               conda-forge\n",
      "    jedi:             0.16.0-py36_0            conda-forge\n",
      "    jpeg:             9c-h14c3975_1001         conda-forge\n",
      "    kiwisolver:       1.1.0-py36hc9558a2_0     conda-forge\n",
      "    libblas:          3.8.0-14_openblas        conda-forge\n",
      "    libcblas:         3.8.0-14_openblas        conda-forge\n",
      "    libgfortran-ng:   7.3.0-hdf63c60_5         conda-forge\n",
      "    libiconv:         1.15-h516909a_1005       conda-forge\n",
      "    liblapack:        3.8.0-14_openblas        conda-forge\n",
      "    libopenblas:      0.3.7-h5ec1e0e_6         conda-forge\n",
      "    libpng:           1.6.37-hed695b0_0        conda-forge\n",
      "    libuuid:          2.32.1-h14c3975_1000     conda-forge\n",
      "    libxcb:           1.13-h14c3975_1002       conda-forge\n",
      "    libxml2:          2.9.9-h13577e0_2         conda-forge\n",
      "    libxslt:          1.1.32-hae48121_1003     conda-forge\n",
      "    lxml:             4.4.1-py36h7ec2d77_0     conda-forge\n",
      "    matplotlib:       3.1.2-py36h4fdacc2_0                \n",
      "    networkx:         2.4-py_0                 conda-forge\n",
      "    nltk:             3.4.4-py_0               conda-forge\n",
      "    numpy:            1.18.1-py36h95a1406_0    conda-forge\n",
      "    pandas:           1.0.1-py36hb3f55d8_0     conda-forge\n",
      "    parso:            0.6.1-py_0               conda-forge\n",
      "    pcre:             8.43-he1b5a44_0          conda-forge\n",
      "    pexpect:          4.8.0-py36_0             conda-forge\n",
      "    pickleshare:      0.7.5-py36_1000          conda-forge\n",
      "    prompt_toolkit:   3.0.3-py_0               conda-forge\n",
      "    pthread-stubs:    0.4-h14c3975_1001        conda-forge\n",
      "    ptyprocess:       0.6.0-py_1001            conda-forge\n",
      "    pygments:         2.5.2-py_0               conda-forge\n",
      "    pyparsing:        2.4.6-py_0               conda-forge\n",
      "    pyqt:             5.9.2-py36hcca6a23_4     conda-forge\n",
      "    python-crfsuite:  0.9.2-py36_0             estnltk    \n",
      "    python-dateutil:  2.8.1-py_0               conda-forge\n",
      "    pytz:             2019.3-py_0              conda-forge\n",
      "    qt:               5.9.7-h52cfd70_2         conda-forge\n",
      "    regex:            2020.1.8-py36h516909a_0  conda-forge\n",
      "    sip:              4.19.8-py36hf484d3e_1000 conda-forge\n",
      "    soupsieve:        1.9.4-py36_0             conda-forge\n",
      "    tornado:          6.0.3-py36h516909a_3     conda-forge\n",
      "    tqdm:             4.42.1-py_0              conda-forge\n",
      "    traitlets:        4.3.3-py36_0             conda-forge\n",
      "    wcwidth:          0.1.8-py_0               conda-forge\n",
      "    webencodings:     0.5.1-py_1               conda-forge\n",
      "    xorg-libxau:      1.0.9-h14c3975_0         conda-forge\n",
      "    xorg-libxdmcp:    1.1.3-h516909a_0         conda-forge\n",
      "\n",
      "The following packages will be UPDATED:\n",
      "\n",
      "    certifi:          2019.11.28-py36_0                    --> 2019.11.28-py36_0     conda-forge\n",
      "    cryptography:     2.2.2-py36h14c3975_0                 --> 2.8-py36h72c5cf5_1    conda-forge\n",
      "    pyopenssl:        18.0.0-py36_0                        --> 19.1.0-py36_0         conda-forge\n",
      "    requests:         2.18.4-py36he2e5f8d_1                --> 2.22.0-py36_1         conda-forge\n",
      "    urllib3:          1.22-py36hbe7ace6_0                  --> 1.25.7-py36_0         conda-forge\n",
      "\n",
      "The following packages will be DOWNGRADED:\n",
      "\n",
      "    ca-certificates:  2020.1.1-0                           --> 2019.11.28-hecc5488_0 conda-forge\n",
      "    openssl:          1.1.1d-h7b6447c_4                    --> 1.1.1d-h516909a_0     conda-forge\n",
      "\n",
      "Preparing transaction: ...working... done\n",
      "Verifying transaction: ...working... done\n",
      "Executing transaction: ...working... done\n"
     ]
    }
   ],
   "source": [
    "# EstNLTK 1.6 kasutamiseks Colabis tuleb...\n",
    "# 1. laadida alla ja installeerida Miniconda\n",
    "!wget https://repo.continuum.io/miniconda/Miniconda3-4.5.4-Linux-x86_64.sh\n",
    "!chmod +x Miniconda3-4.5.4-Linux-x86_64.sh\n",
    "!bash ./Miniconda3-4.5.4-Linux-x86_64.sh -b -f -p /usr/local\n",
    "# 2. Lisada tee\n",
    "import sys\n",
    "sys.path.append('/usr/local/lib/python3.6/site-packages/')\n",
    "# 3. Installeerida pythoni sobiv versioon\n",
    "!conda install -q -y python=3.6\n",
    "# 4. Installeerida EstNLTK\n",
    "!conda install  -q -y -c estnltk -c conda-forge estnltk"
   ]
  },
  {
   "cell_type": "markdown",
   "metadata": {
    "colab_type": "text",
    "id": "hVyO5FkS2END"
   },
   "source": [
    "### Kontrollime EstNLTK versiooni"
   ]
  },
  {
   "cell_type": "code",
   "execution_count": 1,
   "metadata": {
    "colab": {},
    "colab_type": "code",
    "id": "eX8g3Fsp1_-d"
   },
   "outputs": [
    {
     "name": "stdout",
     "output_type": "stream",
     "text": [
      "# packages in environment at C:\\Users\\Karl Gustav Gailit\\Anaconda3\\envs\\keskkond_kgailit:\n",
      "#\n",
      "# Name                    Version                   Build  Channel\n",
      "estnltk                   1.4.1                       3.5    estnltk\n"
     ]
    }
   ],
   "source": [
    "!conda list estnltk"
   ]
  },
  {
   "cell_type": "markdown",
   "metadata": {
    "colab_type": "text",
    "id": "1vHhxu1N73af"
   },
   "source": [
    "## 2. Testimisplokid"
   ]
  },
  {
   "cell_type": "markdown",
   "metadata": {
    "colab_type": "text",
    "id": "x8Kw_zRh9XWK"
   },
   "source": [
    "### NLTK"
   ]
  },
  {
   "cell_type": "code",
   "execution_count": 2,
   "metadata": {
    "colab": {
     "base_uri": "https://localhost:8080/",
     "height": 72
    },
    "colab_type": "code",
    "id": "jOcMLlhSifEm",
    "outputId": "301a051d-cc65-446b-b62f-9526006095b5"
   },
   "outputs": [
    {
     "name": "stderr",
     "output_type": "stream",
     "text": [
      "[nltk_data] Downloading package brown to C:\\Users\\Karl Gustav\n",
      "[nltk_data]     Gailit\\AppData\\Roaming\\nltk_data...\n",
      "[nltk_data]   Unzipping corpora\\brown.zip.\n"
     ]
    },
    {
     "data": {
      "text/plain": [
       "['The', 'Fulton', 'County', 'Grand', 'Jury', 'said', ...]"
      ]
     },
     "execution_count": 2,
     "metadata": {},
     "output_type": "execute_result"
    }
   ],
   "source": [
    "# NLTK\n",
    "import nltk\n",
    "nltk.download(\"brown\")\n",
    "nltk.corpus.brown.words()"
   ]
  },
  {
   "cell_type": "markdown",
   "metadata": {
    "colab_type": "text",
    "id": "dpDqAGc39cam"
   },
   "source": [
    "### EstNLTK 1.4 (soovitatav variant)"
   ]
  },
  {
   "cell_type": "code",
   "execution_count": 0,
   "metadata": {
    "colab": {
     "base_uri": "https://localhost:8080/",
     "height": 87
    },
    "colab_type": "code",
    "id": "wHTb76UKDAtn",
    "outputId": "8673fb0d-5cfb-48e5-c1bc-cfb182fca5b9"
   },
   "outputs": [
    {
     "name": "stdout",
     "output_type": "stream",
     "text": [
      "# packages in environment at /usr/local:\n",
      "#\n",
      "# Name                    Version                   Build  Channel\n",
      "estnltk                   1.4.1                       3.5    estnltk\n"
     ]
    }
   ],
   "source": [
    "# EstNLTK versiooni vaatamiseks\n",
    "!conda list estnltk\n",
    "\n",
    "#Kui tegu pole condaga, siis\n",
    "#import estnltk\n",
    "#estnltk.__version__"
   ]
  },
  {
   "cell_type": "code",
   "execution_count": 3,
   "metadata": {
    "colab": {
     "base_uri": "https://localhost:8080/",
     "height": 125
    },
    "colab_type": "code",
    "id": "ccOIoQ34ifL2",
    "outputId": "71569ddc-a098-43be-a9fb-a80ad2ffb022"
   },
   "outputs": [
    {
     "name": "stdout",
     "output_type": "stream",
     "text": [
      "['tema', 'ostma', 'ajaleht', 'sirp', 'ja', 'üritama', 'sealne', 'tindiprits', 'miski', 'välja', 'lugema', 'ja', 'siis', 'mina', 'mõni', 'sealtloetud', 'teema', 'aretama', '.', 'püüdlikult', 'ja', 'kohmakalt', '.']\n"
     ]
    }
   ],
   "source": [
    "# EstNLTK (1.4)\n",
    "import estnltk\n",
    "tekst = estnltk.Text(\"Nad ostavad ajalehe Sirp ja üritavad sealsest tindipritsist midagi välja lugeda ja siis minuga mõnd sealtloetud teemat aretada. Püüdlikult ja kohmakalt.\")\n",
    "print(tekst.lemmas)"
   ]
  },
  {
   "cell_type": "markdown",
   "metadata": {
    "colab_type": "text",
    "id": "o_VjC1Yy9hig"
   },
   "source": [
    "### EstNLTK 1.6 (kui on millegipärast valitud siiski versioon 1.6)"
   ]
  },
  {
   "cell_type": "code",
   "execution_count": 0,
   "metadata": {
    "colab": {
     "base_uri": "https://localhost:8080/",
     "height": 90
    },
    "colab_type": "code",
    "id": "PykSO2jEC4E5",
    "outputId": "aea7f511-2fc6-4fdb-816e-4eaf1f47b773"
   },
   "outputs": [
    {
     "name": "stdout",
     "output_type": "stream",
     "text": [
      "# packages in environment at /usr/local:\n",
      "#\n",
      "# Name                    Version                   Build  Channel\n",
      "estnltk                   1.6.5beta                   3.6    estnltk\n"
     ]
    }
   ],
   "source": [
    "# EstNLTK versiooni vaatamiseks\n",
    "!conda list estnltk"
   ]
  },
  {
   "cell_type": "code",
   "execution_count": 0,
   "metadata": {
    "colab": {
     "base_uri": "https://localhost:8080/",
     "height": 472
    },
    "colab_type": "code",
    "id": "v7qwJdtf9pIF",
    "outputId": "e25abfbc-56ac-42f8-81e8-2a87c1a73dd1"
   },
   "outputs": [
    {
     "name": "stdout",
     "output_type": "stream",
     "text": [
      "[nltk_data] Downloading package punkt to /root/nltk_data...\n",
      "[nltk_data]   Unzipping tokenizers/punkt.zip.\n"
     ]
    },
    {
     "data": {
      "text/plain": [
       "[['tema'],\n",
       " ['ostma'],\n",
       " ['ajaleht'],\n",
       " ['sirp'],\n",
       " ['ja'],\n",
       " ['üritama'],\n",
       " ['sealne'],\n",
       " ['tindiprits'],\n",
       " ['miski'],\n",
       " ['välja'],\n",
       " ['lugema'],\n",
       " ['ja'],\n",
       " ['siis'],\n",
       " ['mina'],\n",
       " ['mõni'],\n",
       " ['sealtloetud', 'sealtloetud', 'sealtloetud'],\n",
       " ['teema'],\n",
       " ['aretama'],\n",
       " ['.'],\n",
       " ['püüdlikult'],\n",
       " ['ja'],\n",
       " ['kohmakalt'],\n",
       " ['.']]"
      ]
     },
     "execution_count": 5,
     "metadata": {
      "tags": []
     },
     "output_type": "execute_result"
    }
   ],
   "source": [
    "# EstNLTK (1.6)\n",
    "import estnltk\n",
    "tekst = estnltk.Text(\"Nad ostavad ajalehe Sirp ja üritavad sealsest tindipritsist midagi välja lugeda ja siis minuga mõnd sealtloetud teemat aretada. Püüdlikult ja kohmakalt.\")\n",
    "tekst.tag_layer()\n",
    "#tekst['morph_analysis'].lemma\n",
    "list(tekst.lemma)\n",
    "#tekst['morph_analysis'][0].lemma\n",
    "#tekst.get.word_texts.postags.postag_descriptions.as_dataframe\n",
    "#print(tekst.word_texts)\n",
    "#tekst.tag_analysis\n",
    "#print(tekst.text)"
   ]
  },
  {
   "cell_type": "markdown",
   "metadata": {
    "colab_type": "text",
    "id": "Px8f0W-PMvsN"
   },
   "source": [
    "### Tensorflow ja Keras"
   ]
  },
  {
   "cell_type": "code",
   "execution_count": 9,
   "metadata": {
    "colab": {
     "base_uri": "https://localhost:8080/",
     "height": 1000
    },
    "colab_type": "code",
    "id": "Gvhj-Sl53oac",
    "outputId": "5e1e6bf7-c8fe-4eff-cd69-88a94999e336"
   },
   "outputs": [
    {
     "name": "stdout",
     "output_type": "stream",
     "text": [
      "[[0 0 0]\n",
      " [0 0 1]\n",
      " [0 1 0]\n",
      " [0 1 1]\n",
      " [1 0 0]\n",
      " [1 0 1]\n",
      " [1 1 0]\n",
      " [1 1 1]]\n",
      "[0 1 1 0 1 0 0 1]\n",
      "_________________________________________________________________\n",
      "Layer (type)                 Output Shape              Param #   \n",
      "=================================================================\n",
      "dense_3 (Dense)              (None, 4)                 16        \n",
      "_________________________________________________________________\n",
      "dense_4 (Dense)              (None, 1)                 5         \n",
      "=================================================================\n",
      "Total params: 21\n",
      "Trainable params: 21\n",
      "Non-trainable params: 0\n",
      "_________________________________________________________________\n"
     ]
    },
    {
     "data": {
      "text/plain": [
       "[<matplotlib.lines.Line2D at 0x22db6763470>]"
      ]
     },
     "execution_count": 9,
     "metadata": {},
     "output_type": "execute_result"
    },
    {
     "data": {
      "image/png": "[encoded data removed]",
      "text/plain": [
       "<Figure size 432x288 with 1 Axes>"
      ]
     },
     "metadata": {
      "needs_background": "light"
     },
     "output_type": "display_data"
    }
   ],
   "source": [
    "# Tensorflow ja Keras\n",
    "import numpy as np\n",
    "import itertools\n",
    "import matplotlib as plt\n",
    "import matplotlib.pyplot\n",
    "from keras.layers import Dense, Input\n",
    "from keras.models import Sequential\n",
    "\n",
    "#Et graafikud joonestataks siia töölehele, mitte eraldi pildifaili\n",
    "%matplotlib inline\n",
    "\n",
    "X = np.array(list(itertools.product([False, True], repeat=3)), dtype=np.int)\n",
    "y = np.bitwise_xor(np.bitwise_xor(X[:,0], X[:,1]), X[:,2])\n",
    "print(X)\n",
    "print(y)\n",
    "\n",
    "model = Sequential() \n",
    "\n",
    "model.add(Dense(4, activation=\"sigmoid\", input_shape=(X.shape[1],)))\n",
    "model.add(Dense(1, activation=\"sigmoid\"))\n",
    "\n",
    "model.summary()\n",
    "\n",
    "model.compile(loss='mean_squared_error', optimizer=\"sgd\")\n",
    "hist = model.fit(X, y, epochs=400, batch_size=8, verbose=False)\n",
    "\n",
    "plt.pyplot.plot(hist.history[\"loss\"])"
   ]
  },
  {
   "cell_type": "code",
   "execution_count": 6,
   "metadata": {
    "colab": {},
    "colab_type": "code",
    "id": "SyZ_msaIlObN"
   },
   "outputs": [],
   "source": [
    "# Gensim\n",
    "import gensim\n"
   ]
  },
  {
   "cell_type": "code",
   "execution_count": 8,
   "metadata": {
    "colab": {
     "base_uri": "https://localhost:8080/",
     "height": 399
    },
    "colab_type": "code",
    "id": "gtf9fyJflUnd",
    "outputId": "ccf88965-8c35-4425-fbaa-977c18426c15"
   },
   "outputs": [
    {
     "name": "stdout",
     "output_type": "stream",
     "text": [
      "Kõige sarnasemad sõnad sõnale cat\n"
     ]
    },
    {
     "data": {
      "text/plain": [
       "[('dog', 0.95908207),\n",
       " ('monkey', 0.9203578),\n",
       " ('bear', 0.91431373),\n",
       " ('pet', 0.910803),\n",
       " ('girl', 0.8880629),\n",
       " ('horse', 0.8872727),\n",
       " ('kitty', 0.88705426),\n",
       " ('puppy', 0.88676965),\n",
       " ('hot', 0.8865256),\n",
       " ('lady', 0.8845519)]"
      ]
     },
     "execution_count": 8,
     "metadata": {},
     "output_type": "execute_result"
    }
   ],
   "source": [
    "# PyMagnitude\n",
    "#!pip install pymagnitude\n",
    "#!cp /usr/local/lib/python3.5/site-packages/lz4/_version.cpython-35m-x86_64-linux-gnu.so /usr/local/lib/python3.5/site-packages/lz4/_version.so\n",
    "#!cp /usr/local/lib/python3.5/site-packages/lz4/frame/_frame.cpython-35m-x86_64-linux-gnu.so /usr/local/lib/python3.5/site-packages/lz4/frame/_frame.so\n",
    "#!cp /usr/local/lib/python3.5/site-packages/xxhash/cpython.cpython-35m-x86_64-linux-gnu.so /usr/local/lib/python3.5/site-packages/xxhash/cpython.so\n",
    "#!cp /usr/local/lib/python3.5/site-packages/annoy/annoylib.cpython-35m-x86_64-linux-gnu.so /usr/local/lib/python3.5/site-packages/annoy/annoylib.so\n",
    "import pymagnitude\n",
    "word = \"cat\"\n",
    "vectors = pymagnitude.Magnitude(pymagnitude.MagnitudeUtils.download_model('glove/light/glove.twitter.27B.25d.magnitude'))\n",
    "print(\"Kõige sarnasemad sõnad sõnale\", word)\n",
    "vectors.most_similar(word, topn = 10)"
   ]
  },
  {
   "cell_type": "code",
   "execution_count": 21,
   "metadata": {},
   "outputs": [],
   "source": [
    "from pprint import pprint"
   ]
  },
  {
   "cell_type": "code",
   "execution_count": 22,
   "metadata": {},
   "outputs": [
    {
     "name": "stdout",
     "output_type": "stream",
     "text": [
      "Kõige sarnasemad sõnad sõnale Ogre\n",
      "[('ogre', 0.9096290444542986),\n",
      " ('bloodhound', 0.8613700806954225),\n",
      " ('parasite', 0.8490518354228554),\n",
      " ('lethal', 0.8264215317165066),\n",
      " ('sludge', 0.8165878164079828),\n",
      " ('brute', 0.8139021283822254),\n",
      " ('fungus', 0.8073354775999037),\n",
      " ('burnout', 0.8036744365423932),\n",
      " ('goblin', 0.7945812748163594),\n",
      " ('one-eyed', 0.7929046591638362)]\n",
      "Kõige sarnasemad sõnad sõnale ogre\n",
      "[('one-eyed', 0.8785137),\n",
      " ('aubergine', 0.8452151),\n",
      " ('beggar', 0.844365),\n",
      " ('bloodhound', 0.8424518),\n",
      " ('cynic', 0.83458084),\n",
      " ('blob', 0.8336765),\n",
      " ('aristocrat', 0.8330109),\n",
      " ('amphibian', 0.83273804),\n",
      " ('monstrous', 0.82731843),\n",
      " ('goblin', 0.82708085)]\n"
     ]
    }
   ],
   "source": [
    "print(\"Kõige sarnasemad sõnad sõnale\", \"Ogre\")\n",
    "pprint(vectors.most_similar(\"Ogre\", topn = 10))\n",
    "print(\"Kõige sarnasemad sõnad sõnale\", \"ogre\")\n",
    "pprint(vectors.most_similar(\"ogre\", topn = 10))"
   ]
  },
  {
   "cell_type": "code",
   "execution_count": 10,
   "metadata": {
    "colab": {
     "base_uri": "https://localhost:8080/",
     "height": 617
    },
    "colab_type": "code",
    "id": "CtPHpi1CbbbR",
    "outputId": "a8d30050-0ad1-4193-c5e7-e062ff6cb427"
   },
   "outputs": [
    {
     "data": {
      "text/html": [
       "\n",
       "    <div class=\"bk-root\">\n",
       "        <a href=\"https://bokeh.pydata.org\" target=\"_blank\" class=\"bk-logo bk-logo-small bk-logo-notebook\"></a>\n",
       "        <span id=\"93cbca88-b116-4163-a483-5acf9fb28a2f\">Loading BokehJS ...</span>\n",
       "    </div>"
      ]
     },
     "metadata": {},
     "output_type": "display_data"
    },
    {
     "data": {
      "application/javascript": [
       "\n",
       "(function(root) {\n",
       "  function now() {\n",
       "    return new Date();\n",
       "  }\n",
       "\n",
       "  var force = true;\n",
       "\n",
       "  if (typeof (root._bokeh_onload_callbacks) === \"undefined\" || force === true) {\n",
       "    root._bokeh_onload_callbacks = [];\n",
       "    root._bokeh_is_loading = undefined;\n",
       "  }\n",
       "\n",
       "  var JS_MIME_TYPE = 'application/javascript';\n",
       "  var HTML_MIME_TYPE = 'text/html';\n",
       "  var EXEC_MIME_TYPE = 'application/vnd.bokehjs_exec.v0+json';\n",
       "  var CLASS_NAME = 'output_bokeh rendered_html';\n",
       "\n",
       "  /**\n",
       "   * Render data to the DOM node\n",
       "   */\n",
       "  function render(props, node) {\n",
       "    var script = document.createElement(\"script\");\n",
       "    node.appendChild(script);\n",
       "  }\n",
       "\n",
       "  /**\n",
       "   * Handle when an output is cleared or removed\n",
       "   */\n",
       "  function handleClearOutput(event, handle) {\n",
       "    var cell = handle.cell;\n",
       "\n",
       "    var id = cell.output_area._bokeh_element_id;\n",
       "    var server_id = cell.output_area._bokeh_server_id;\n",
       "    // Clean up Bokeh references\n",
       "    if (id != null && id in Bokeh.index) {\n",
       "      Bokeh.index[id].model.document.clear();\n",
       "      delete Bokeh.index[id];\n",
       "    }\n",
       "\n",
       "    if (server_id !== undefined) {\n",
       "      // Clean up Bokeh references\n",
       "      var cmd = \"from bokeh.io.state import curstate; print(curstate().uuid_to_server['\" + server_id + \"'].get_sessions()[0].document.roots[0]._id)\";\n",
       "      cell.notebook.kernel.execute(cmd, {\n",
       "        iopub: {\n",
       "          output: function(msg) {\n",
       "            var id = msg.content.text.trim();\n",
       "            if (id in Bokeh.index) {\n",
       "              Bokeh.index[id].model.document.clear();\n",
       "              delete Bokeh.index[id];\n",
       "            }\n",
       "          }\n",
       "        }\n",
       "      });\n",
       "      // Destroy server and session\n",
       "      var cmd = \"import bokeh.io.notebook as ion; ion.destroy_server('\" + server_id + \"')\";\n",
       "      cell.notebook.kernel.execute(cmd);\n",
       "    }\n",
       "  }\n",
       "\n",
       "  /**\n",
       "   * Handle when a new output is added\n",
       "   */\n",
       "  function handleAddOutput(event, handle) {\n",
       "    var output_area = handle.output_area;\n",
       "    var output = handle.output;\n",
       "\n",
       "    // limit handleAddOutput to display_data with EXEC_MIME_TYPE content only\n",
       "    if ((output.output_type != \"display_data\") || (!output.data.hasOwnProperty(EXEC_MIME_TYPE))) {\n",
       "      return\n",
       "    }\n",
       "\n",
       "    var toinsert = output_area.element.find(\".\" + CLASS_NAME.split(' ')[0]);\n",
       "\n",
       "    if (output.metadata[EXEC_MIME_TYPE][\"id\"] !== undefined) {\n",
       "      toinsert[toinsert.length - 1].firstChild.textContent = output.data[JS_MIME_TYPE];\n",
       "      // store reference to embed id on output_area\n",
       "      output_area._bokeh_element_id = output.metadata[EXEC_MIME_TYPE][\"id\"];\n",
       "    }\n",
       "    if (output.metadata[EXEC_MIME_TYPE][\"server_id\"] !== undefined) {\n",
       "      var bk_div = document.createElement(\"div\");\n",
       "      bk_div.innerHTML = output.data[HTML_MIME_TYPE];\n",
       "      var script_attrs = bk_div.children[0].attributes;\n",
       "      for (var i = 0; i < script_attrs.length; i++) {\n",
       "        toinsert[toinsert.length - 1].firstChild.setAttribute(script_attrs[i].name, script_attrs[i].value);\n",
       "      }\n",
       "      // store reference to server id on output_area\n",
       "      output_area._bokeh_server_id = output.metadata[EXEC_MIME_TYPE][\"server_id\"];\n",
       "    }\n",
       "  }\n",
       "\n",
       "  function register_renderer(events, OutputArea) {\n",
       "\n",
       "    function append_mime(data, metadata, element) {\n",
       "      // create a DOM node to render to\n",
       "      var toinsert = this.create_output_subarea(\n",
       "        metadata,\n",
       "        CLASS_NAME,\n",
       "        EXEC_MIME_TYPE\n",
       "      );\n",
       "      this.keyboard_manager.register_events(toinsert);\n",
       "      // Render to node\n",
       "      var props = {data: data, metadata: metadata[EXEC_MIME_TYPE]};\n",
       "      render(props, toinsert[toinsert.length - 1]);\n",
       "      element.append(toinsert);\n",
       "      return toinsert\n",
       "    }\n",
       "\n",
       "    /* Handle when an output is cleared or removed */\n",
       "    events.on('clear_output.CodeCell', handleClearOutput);\n",
       "    events.on('delete.Cell', handleClearOutput);\n",
       "\n",
       "    /* Handle when a new output is added */\n",
       "    events.on('output_added.OutputArea', handleAddOutput);\n",
       "\n",
       "    /**\n",
       "     * Register the mime type and append_mime function with output_area\n",
       "     */\n",
       "    OutputArea.prototype.register_mime_type(EXEC_MIME_TYPE, append_mime, {\n",
       "      /* Is output safe? */\n",
       "      safe: true,\n",
       "      /* Index of renderer in `output_area.display_order` */\n",
       "      index: 0\n",
       "    });\n",
       "  }\n",
       "\n",
       "  // register the mime type if in Jupyter Notebook environment and previously unregistered\n",
       "  if (root.Jupyter !== undefined) {\n",
       "    var events = require('base/js/events');\n",
       "    var OutputArea = require('notebook/js/outputarea').OutputArea;\n",
       "\n",
       "    if (OutputArea.prototype.mime_types().indexOf(EXEC_MIME_TYPE) == -1) {\n",
       "      register_renderer(events, OutputArea);\n",
       "    }\n",
       "  }\n",
       "\n",
       "  \n",
       "  if (typeof (root._bokeh_timeout) === \"undefined\" || force === true) {\n",
       "    root._bokeh_timeout = Date.now() + 5000;\n",
       "    root._bokeh_failed_load = false;\n",
       "  }\n",
       "\n",
       "  var NB_LOAD_WARNING = {'data': {'text/html':\n",
       "     \"<div style='background-color: #fdd'>\\n\"+\n",
       "     \"<p>\\n\"+\n",
       "     \"BokehJS does not appear to have successfully loaded. If loading BokehJS from CDN, this \\n\"+\n",
       "     \"may be due to a slow or bad network connection. Possible fixes:\\n\"+\n",
       "     \"</p>\\n\"+\n",
       "     \"<ul>\\n\"+\n",
       "     \"<li>re-rerun `output_notebook()` to attempt to load from CDN again, or</li>\\n\"+\n",
       "     \"<li>use INLINE resources instead, as so:</li>\\n\"+\n",
       "     \"</ul>\\n\"+\n",
       "     \"<code>\\n\"+\n",
       "     \"from bokeh.resources import INLINE\\n\"+\n",
       "     \"output_notebook(resources=INLINE)\\n\"+\n",
       "     \"</code>\\n\"+\n",
       "     \"</div>\"}};\n",
       "\n",
       "  function display_loaded() {\n",
       "    var el = document.getElementById(\"93cbca88-b116-4163-a483-5acf9fb28a2f\");\n",
       "    if (el != null) {\n",
       "      el.textContent = \"BokehJS is loading...\";\n",
       "    }\n",
       "    if (root.Bokeh !== undefined) {\n",
       "      if (el != null) {\n",
       "        el.textContent = \"BokehJS \" + root.Bokeh.version + \" successfully loaded.\";\n",
       "      }\n",
       "    } else if (Date.now() < root._bokeh_timeout) {\n",
       "      setTimeout(display_loaded, 100)\n",
       "    }\n",
       "  }\n",
       "\n",
       "\n",
       "  function run_callbacks() {\n",
       "    try {\n",
       "      root._bokeh_onload_callbacks.forEach(function(callback) { callback() });\n",
       "    }\n",
       "    finally {\n",
       "      delete root._bokeh_onload_callbacks\n",
       "    }\n",
       "    console.info(\"Bokeh: all callbacks have finished\");\n",
       "  }\n",
       "\n",
       "  function load_libs(js_urls, callback) {\n",
       "    root._bokeh_onload_callbacks.push(callback);\n",
       "    if (root._bokeh_is_loading > 0) {\n",
       "      console.log(\"Bokeh: BokehJS is being loaded, scheduling callback at\", now());\n",
       "      return null;\n",
       "    }\n",
       "    if (js_urls == null || js_urls.length === 0) {\n",
       "      run_callbacks();\n",
       "      return null;\n",
       "    }\n",
       "    console.log(\"Bokeh: BokehJS not loaded, scheduling load and callback at\", now());\n",
       "    root._bokeh_is_loading = js_urls.length;\n",
       "    for (var i = 0; i < js_urls.length; i++) {\n",
       "      var url = js_urls[i];\n",
       "      var s = document.createElement('script');\n",
       "      s.src = url;\n",
       "      s.async = false;\n",
       "      s.onreadystatechange = s.onload = function() {\n",
       "        root._bokeh_is_loading--;\n",
       "        if (root._bokeh_is_loading === 0) {\n",
       "          console.log(\"Bokeh: all BokehJS libraries loaded\");\n",
       "          run_callbacks()\n",
       "        }\n",
       "      };\n",
       "      s.onerror = function() {\n",
       "        console.warn(\"failed to load library \" + url);\n",
       "      };\n",
       "      console.log(\"Bokeh: injecting script tag for BokehJS library: \", url);\n",
       "      document.getElementsByTagName(\"head\")[0].appendChild(s);\n",
       "    }\n",
       "  };var element = document.getElementById(\"93cbca88-b116-4163-a483-5acf9fb28a2f\");\n",
       "  if (element == null) {\n",
       "    console.log(\"Bokeh: ERROR: autoload.js configured with elementid '93cbca88-b116-4163-a483-5acf9fb28a2f' but no matching script tag was found. \")\n",
       "    return false;\n",
       "  }\n",
       "\n",
       "  var js_urls = [\"https://cdn.pydata.org/bokeh/release/bokeh-0.13.0.min.js\", \"https://cdn.pydata.org/bokeh/release/bokeh-widgets-0.13.0.min.js\", \"https://cdn.pydata.org/bokeh/release/bokeh-tables-0.13.0.min.js\", \"https://cdn.pydata.org/bokeh/release/bokeh-gl-0.13.0.min.js\"];\n",
       "\n",
       "  var inline_js = [\n",
       "    function(Bokeh) {\n",
       "      Bokeh.set_log_level(\"info\");\n",
       "    },\n",
       "    \n",
       "    function(Bokeh) {\n",
       "      \n",
       "    },\n",
       "    function(Bokeh) {\n",
       "      console.log(\"Bokeh: injecting CSS: https://cdn.pydata.org/bokeh/release/bokeh-0.13.0.min.css\");\n",
       "      Bokeh.embed.inject_css(\"https://cdn.pydata.org/bokeh/release/bokeh-0.13.0.min.css\");\n",
       "      console.log(\"Bokeh: injecting CSS: https://cdn.pydata.org/bokeh/release/bokeh-widgets-0.13.0.min.css\");\n",
       "      Bokeh.embed.inject_css(\"https://cdn.pydata.org/bokeh/release/bokeh-widgets-0.13.0.min.css\");\n",
       "      console.log(\"Bokeh: injecting CSS: https://cdn.pydata.org/bokeh/release/bokeh-tables-0.13.0.min.css\");\n",
       "      Bokeh.embed.inject_css(\"https://cdn.pydata.org/bokeh/release/bokeh-tables-0.13.0.min.css\");\n",
       "    }\n",
       "  ];\n",
       "\n",
       "  function run_inline_js() {\n",
       "    \n",
       "    if ((root.Bokeh !== undefined) || (force === true)) {\n",
       "      for (var i = 0; i < inline_js.length; i++) {\n",
       "        inline_js[i].call(root, root.Bokeh);\n",
       "      }if (force === true) {\n",
       "        display_loaded();\n",
       "      }} else if (Date.now() < root._bokeh_timeout) {\n",
       "      setTimeout(run_inline_js, 100);\n",
       "    } else if (!root._bokeh_failed_load) {\n",
       "      console.log(\"Bokeh: BokehJS failed to load within specified timeout.\");\n",
       "      root._bokeh_failed_load = true;\n",
       "    } else if (force !== true) {\n",
       "      var cell = $(document.getElementById(\"93cbca88-b116-4163-a483-5acf9fb28a2f\")).parents('.cell').data().cell;\n",
       "      cell.output_area.append_execute_result(NB_LOAD_WARNING)\n",
       "    }\n",
       "\n",
       "  }\n",
       "\n",
       "  if (root._bokeh_is_loading === 0) {\n",
       "    console.log(\"Bokeh: BokehJS loaded, going straight to plotting\");\n",
       "    run_inline_js();\n",
       "  } else {\n",
       "    load_libs(js_urls, function() {\n",
       "      console.log(\"Bokeh: BokehJS plotting callback run at\", now());\n",
       "      run_inline_js();\n",
       "    });\n",
       "  }\n",
       "}(window));"
      ],
      "application/vnd.bokehjs_load.v0+json": "\n(function(root) {\n  function now() {\n    return new Date();\n  }\n\n  var force = true;\n\n  if (typeof (root._bokeh_onload_callbacks) === \"undefined\" || force === true) {\n    root._bokeh_onload_callbacks = [];\n    root._bokeh_is_loading = undefined;\n  }\n\n  \n\n  \n  if (typeof (root._bokeh_timeout) === \"undefined\" || force === true) {\n    root._bokeh_timeout = Date.now() + 5000;\n    root._bokeh_failed_load = false;\n  }\n\n  var NB_LOAD_WARNING = {'data': {'text/html':\n     \"<div style='background-color: #fdd'>\\n\"+\n     \"<p>\\n\"+\n     \"BokehJS does not appear to have successfully loaded. If loading BokehJS from CDN, this \\n\"+\n     \"may be due to a slow or bad network connection. Possible fixes:\\n\"+\n     \"</p>\\n\"+\n     \"<ul>\\n\"+\n     \"<li>re-rerun `output_notebook()` to attempt to load from CDN again, or</li>\\n\"+\n     \"<li>use INLINE resources instead, as so:</li>\\n\"+\n     \"</ul>\\n\"+\n     \"<code>\\n\"+\n     \"from bokeh.resources import INLINE\\n\"+\n     \"output_notebook(resources=INLINE)\\n\"+\n     \"</code>\\n\"+\n     \"</div>\"}};\n\n  function display_loaded() {\n    var el = document.getElementById(\"93cbca88-b116-4163-a483-5acf9fb28a2f\");\n    if (el != null) {\n      el.textContent = \"BokehJS is loading...\";\n    }\n    if (root.Bokeh !== undefined) {\n      if (el != null) {\n        el.textContent = \"BokehJS \" + root.Bokeh.version + \" successfully loaded.\";\n      }\n    } else if (Date.now() < root._bokeh_timeout) {\n      setTimeout(display_loaded, 100)\n    }\n  }\n\n\n  function run_callbacks() {\n    try {\n      root._bokeh_onload_callbacks.forEach(function(callback) { callback() });\n    }\n    finally {\n      delete root._bokeh_onload_callbacks\n    }\n    console.info(\"Bokeh: all callbacks have finished\");\n  }\n\n  function load_libs(js_urls, callback) {\n    root._bokeh_onload_callbacks.push(callback);\n    if (root._bokeh_is_loading > 0) {\n      console.log(\"Bokeh: BokehJS is being loaded, scheduling callback at\", now());\n      return null;\n    }\n    if (js_urls == null || js_urls.length === 0) {\n      run_callbacks();\n      return null;\n    }\n    console.log(\"Bokeh: BokehJS not loaded, scheduling load and callback at\", now());\n    root._bokeh_is_loading = js_urls.length;\n    for (var i = 0; i < js_urls.length; i++) {\n      var url = js_urls[i];\n      var s = document.createElement('script');\n      s.src = url;\n      s.async = false;\n      s.onreadystatechange = s.onload = function() {\n        root._bokeh_is_loading--;\n        if (root._bokeh_is_loading === 0) {\n          console.log(\"Bokeh: all BokehJS libraries loaded\");\n          run_callbacks()\n        }\n      };\n      s.onerror = function() {\n        console.warn(\"failed to load library \" + url);\n      };\n      console.log(\"Bokeh: injecting script tag for BokehJS library: \", url);\n      document.getElementsByTagName(\"head\")[0].appendChild(s);\n    }\n  };var element = document.getElementById(\"93cbca88-b116-4163-a483-5acf9fb28a2f\");\n  if (element == null) {\n    console.log(\"Bokeh: ERROR: autoload.js configured with elementid '93cbca88-b116-4163-a483-5acf9fb28a2f' but no matching script tag was found. \")\n    return false;\n  }\n\n  var js_urls = [\"https://cdn.pydata.org/bokeh/release/bokeh-0.13.0.min.js\", \"https://cdn.pydata.org/bokeh/release/bokeh-widgets-0.13.0.min.js\", \"https://cdn.pydata.org/bokeh/release/bokeh-tables-0.13.0.min.js\", \"https://cdn.pydata.org/bokeh/release/bokeh-gl-0.13.0.min.js\"];\n\n  var inline_js = [\n    function(Bokeh) {\n      Bokeh.set_log_level(\"info\");\n    },\n    \n    function(Bokeh) {\n      \n    },\n    function(Bokeh) {\n      console.log(\"Bokeh: injecting CSS: https://cdn.pydata.org/bokeh/release/bokeh-0.13.0.min.css\");\n      Bokeh.embed.inject_css(\"https://cdn.pydata.org/bokeh/release/bokeh-0.13.0.min.css\");\n      console.log(\"Bokeh: injecting CSS: https://cdn.pydata.org/bokeh/release/bokeh-widgets-0.13.0.min.css\");\n      Bokeh.embed.inject_css(\"https://cdn.pydata.org/bokeh/release/bokeh-widgets-0.13.0.min.css\");\n      console.log(\"Bokeh: injecting CSS: https://cdn.pydata.org/bokeh/release/bokeh-tables-0.13.0.min.css\");\n      Bokeh.embed.inject_css(\"https://cdn.pydata.org/bokeh/release/bokeh-tables-0.13.0.min.css\");\n    }\n  ];\n\n  function run_inline_js() {\n    \n    if ((root.Bokeh !== undefined) || (force === true)) {\n      for (var i = 0; i < inline_js.length; i++) {\n        inline_js[i].call(root, root.Bokeh);\n      }if (force === true) {\n        display_loaded();\n      }} else if (Date.now() < root._bokeh_timeout) {\n      setTimeout(run_inline_js, 100);\n    } else if (!root._bokeh_failed_load) {\n      console.log(\"Bokeh: BokehJS failed to load within specified timeout.\");\n      root._bokeh_failed_load = true;\n    } else if (force !== true) {\n      var cell = $(document.getElementById(\"93cbca88-b116-4163-a483-5acf9fb28a2f\")).parents('.cell').data().cell;\n      cell.output_area.append_execute_result(NB_LOAD_WARNING)\n    }\n\n  }\n\n  if (root._bokeh_is_loading === 0) {\n    console.log(\"Bokeh: BokehJS loaded, going straight to plotting\");\n    run_inline_js();\n  } else {\n    load_libs(js_urls, function() {\n      console.log(\"Bokeh: BokehJS plotting callback run at\", now());\n      run_inline_js();\n    });\n  }\n}(window));"
     },
     "metadata": {},
     "output_type": "display_data"
    },
    {
     "data": {
      "text/html": [
       "\n",
       "\n",
       "\n",
       "\n",
       "\n",
       "\n",
       "  <div class=\"bk-root\" id=\"0f854d69-62cd-4743-9806-4cc5907574dd\"></div>\n"
      ]
     },
     "metadata": {},
     "output_type": "display_data"
    },
    {
     "data": {
      "application/javascript": [
       "(function(root) {\n",
       "  function embed_document(root) {\n",
       "    \n",
       "  var docs_json = {\"51ce45a3-292d-4130-a2f6-3be03d3ad301\":{\"roots\":{\"references\":[{\"attributes\":{\"data_source\":{\"id\":\"543836e1-b5bf-40ab-b8be-cb64ec1a4003\",\"type\":\"ColumnDataSource\"},\"glyph\":{\"id\":\"3c83240c-b965-4ec0-b4f9-8ca2b489f1b0\",\"type\":\"Line\"},\"hover_glyph\":null,\"muted_glyph\":null,\"nonselection_glyph\":{\"id\":\"4e8b0659-12b7-4105-bb88-29bf47331c37\",\"type\":\"Line\"},\"selection_glyph\":null,\"view\":{\"id\":\"22f2308f-f568-475f-b9c7-c06dd74cd188\",\"type\":\"CDSView\"}},\"id\":\"53827d42-89e8-4543-b914-700c6c6d264b\",\"type\":\"GlyphRenderer\"},{\"attributes\":{\"active_drag\":\"auto\",\"active_inspect\":\"auto\",\"active_multi\":null,\"active_scroll\":\"auto\",\"active_tap\":\"auto\",\"tools\":[{\"id\":\"077a75aa-d47c-4fb3-b0d2-4a9fd12eb82d\",\"type\":\"PanTool\"},{\"id\":\"9a27ab3b-5aa2-480d-92c4-4fa64be4fa6d\",\"type\":\"WheelZoomTool\"},{\"id\":\"5b17b931-2ce9-40db-9984-e706821a3b4d\",\"type\":\"BoxZoomTool\"},{\"id\":\"8b1253e7-11d8-4caf-ac8c-052c06f8998c\",\"type\":\"SaveTool\"},{\"id\":\"7820b291-95aa-4a55-8b42-8d49b1735682\",\"type\":\"ResetTool\"},{\"id\":\"6a20de37-8ff2-47f9-b2f1-b2a4f7daf07c\",\"type\":\"HelpTool\"}]},\"id\":\"bfb4b6f0-da9b-41ce-864e-226cac0f1546\",\"type\":\"Toolbar\"},{\"attributes\":{\"label\":{\"value\":\"Temp.\"},\"renderers\":[{\"id\":\"53827d42-89e8-4543-b914-700c6c6d264b\",\"type\":\"GlyphRenderer\"}]},\"id\":\"314ab530-0d88-4e06-844d-af788ea6473b\",\"type\":\"LegendItem\"},{\"attributes\":{},\"id\":\"9a27ab3b-5aa2-480d-92c4-4fa64be4fa6d\",\"type\":\"WheelZoomTool\"},{\"attributes\":{\"plot\":{\"id\":\"8b9f0ac6-3dd4-4564-9ca2-019a86264124\",\"subtype\":\"Figure\",\"type\":\"Plot\"},\"ticker\":{\"id\":\"8eee4913-28ac-4bf4-9b0e-6d1ec438b2f0\",\"type\":\"BasicTicker\"}},\"id\":\"2d044f01-ad6a-455e-a235-742aa36b6314\",\"type\":\"Grid\"},{\"attributes\":{\"line_alpha\":0.1,\"line_color\":\"#1f77b4\",\"line_width\":2,\"x\":{\"field\":\"x\"},\"y\":{\"field\":\"y\"}},\"id\":\"4e8b0659-12b7-4105-bb88-29bf47331c37\",\"type\":\"Line\"},{\"attributes\":{\"bottom_units\":\"screen\",\"fill_alpha\":{\"value\":0.5},\"fill_color\":{\"value\":\"lightgrey\"},\"left_units\":\"screen\",\"level\":\"overlay\",\"line_alpha\":{\"value\":1.0},\"line_color\":{\"value\":\"black\"},\"line_dash\":[4,4],\"line_width\":{\"value\":2},\"plot\":null,\"render_mode\":\"css\",\"right_units\":\"screen\",\"top_units\":\"screen\"},\"id\":\"d8acb4c7-fdd7-43a8-b508-3ef9d1ca173c\",\"type\":\"BoxAnnotation\"},{\"attributes\":{\"overlay\":{\"id\":\"d8acb4c7-fdd7-43a8-b508-3ef9d1ca173c\",\"type\":\"BoxAnnotation\"}},\"id\":\"5b17b931-2ce9-40db-9984-e706821a3b4d\",\"type\":\"BoxZoomTool\"},{\"attributes\":{\"source\":{\"id\":\"543836e1-b5bf-40ab-b8be-cb64ec1a4003\",\"type\":\"ColumnDataSource\"}},\"id\":\"22f2308f-f568-475f-b9c7-c06dd74cd188\",\"type\":\"CDSView\"},{\"attributes\":{\"callback\":null},\"id\":\"0d6d1e39-f310-49ba-84fd-753a30dd2d1e\",\"type\":\"DataRange1d\"},{\"attributes\":{},\"id\":\"8b1253e7-11d8-4caf-ac8c-052c06f8998c\",\"type\":\"SaveTool\"},{\"attributes\":{\"callback\":null},\"id\":\"0cf389e6-16fc-4959-9c3c-6feeb9493592\",\"type\":\"DataRange1d\"},{\"attributes\":{},\"id\":\"c4b6d011-e4cc-49b2-9558-a42e7a74706f\",\"type\":\"UnionRenderers\"},{\"attributes\":{},\"id\":\"6a20de37-8ff2-47f9-b2f1-b2a4f7daf07c\",\"type\":\"HelpTool\"},{\"attributes\":{\"callback\":null,\"data\":{\"x\":[1,2,3,4,5],\"y\":[6,7,2,4,5]},\"selected\":{\"id\":\"7dc6f2d9-3d22-440b-ad26-efbe75ca8f20\",\"type\":\"Selection\"},\"selection_policy\":{\"id\":\"c4b6d011-e4cc-49b2-9558-a42e7a74706f\",\"type\":\"UnionRenderers\"}},\"id\":\"543836e1-b5bf-40ab-b8be-cb64ec1a4003\",\"type\":\"ColumnDataSource\"},{\"attributes\":{},\"id\":\"bababe62-005a-4bf3-b373-e77c4e281971\",\"type\":\"LinearScale\"},{\"attributes\":{\"dimension\":1,\"plot\":{\"id\":\"8b9f0ac6-3dd4-4564-9ca2-019a86264124\",\"subtype\":\"Figure\",\"type\":\"Plot\"},\"ticker\":{\"id\":\"039c9373-d0fe-4a61-b74a-cfdc833589c4\",\"type\":\"BasicTicker\"}},\"id\":\"bbc4cfaa-ce64-49e9-b746-e9ca44981579\",\"type\":\"Grid\"},{\"attributes\":{\"line_color\":\"#1f77b4\",\"line_width\":2,\"x\":{\"field\":\"x\"},\"y\":{\"field\":\"y\"}},\"id\":\"3c83240c-b965-4ec0-b4f9-8ca2b489f1b0\",\"type\":\"Line\"},{\"attributes\":{\"items\":[{\"id\":\"314ab530-0d88-4e06-844d-af788ea6473b\",\"type\":\"LegendItem\"}],\"plot\":{\"id\":\"8b9f0ac6-3dd4-4564-9ca2-019a86264124\",\"subtype\":\"Figure\",\"type\":\"Plot\"}},\"id\":\"0209a627-cd30-48f7-9451-0e97cbf3ee9b\",\"type\":\"Legend\"},{\"attributes\":{\"below\":[{\"id\":\"6f752373-5781-4343-8a51-3161472710b5\",\"type\":\"LinearAxis\"}],\"left\":[{\"id\":\"144dfe1c-47f6-432f-99a1-1373bb4b4e38\",\"type\":\"LinearAxis\"}],\"renderers\":[{\"id\":\"6f752373-5781-4343-8a51-3161472710b5\",\"type\":\"LinearAxis\"},{\"id\":\"2d044f01-ad6a-455e-a235-742aa36b6314\",\"type\":\"Grid\"},{\"id\":\"144dfe1c-47f6-432f-99a1-1373bb4b4e38\",\"type\":\"LinearAxis\"},{\"id\":\"bbc4cfaa-ce64-49e9-b746-e9ca44981579\",\"type\":\"Grid\"},{\"id\":\"d8acb4c7-fdd7-43a8-b508-3ef9d1ca173c\",\"type\":\"BoxAnnotation\"},{\"id\":\"0209a627-cd30-48f7-9451-0e97cbf3ee9b\",\"type\":\"Legend\"},{\"id\":\"53827d42-89e8-4543-b914-700c6c6d264b\",\"type\":\"GlyphRenderer\"}],\"title\":{\"id\":\"e1270723-8b0d-4fb9-ae81-b3542e75a3fb\",\"type\":\"Title\"},\"toolbar\":{\"id\":\"bfb4b6f0-da9b-41ce-864e-226cac0f1546\",\"type\":\"Toolbar\"},\"x_range\":{\"id\":\"0d6d1e39-f310-49ba-84fd-753a30dd2d1e\",\"type\":\"DataRange1d\"},\"x_scale\":{\"id\":\"bababe62-005a-4bf3-b373-e77c4e281971\",\"type\":\"LinearScale\"},\"y_range\":{\"id\":\"0cf389e6-16fc-4959-9c3c-6feeb9493592\",\"type\":\"DataRange1d\"},\"y_scale\":{\"id\":\"198c570b-ff86-4ab2-a5ec-5412d267db8c\",\"type\":\"LinearScale\"}},\"id\":\"8b9f0ac6-3dd4-4564-9ca2-019a86264124\",\"subtype\":\"Figure\",\"type\":\"Plot\"},{\"attributes\":{},\"id\":\"65dbb75e-c5ba-4b77-9171-54fa008421a6\",\"type\":\"BasicTickFormatter\"},{\"attributes\":{},\"id\":\"7820b291-95aa-4a55-8b42-8d49b1735682\",\"type\":\"ResetTool\"},{\"attributes\":{},\"id\":\"198c570b-ff86-4ab2-a5ec-5412d267db8c\",\"type\":\"LinearScale\"},{\"attributes\":{},\"id\":\"7dc6f2d9-3d22-440b-ad26-efbe75ca8f20\",\"type\":\"Selection\"},{\"attributes\":{},\"id\":\"039c9373-d0fe-4a61-b74a-cfdc833589c4\",\"type\":\"BasicTicker\"},{\"attributes\":{},\"id\":\"bd4d50df-0f34-4da6-a3af-cf3a079c01ab\",\"type\":\"BasicTickFormatter\"},{\"attributes\":{\"axis_label\":\"y\",\"formatter\":{\"id\":\"65dbb75e-c5ba-4b77-9171-54fa008421a6\",\"type\":\"BasicTickFormatter\"},\"plot\":{\"id\":\"8b9f0ac6-3dd4-4564-9ca2-019a86264124\",\"subtype\":\"Figure\",\"type\":\"Plot\"},\"ticker\":{\"id\":\"039c9373-d0fe-4a61-b74a-cfdc833589c4\",\"type\":\"BasicTicker\"}},\"id\":\"144dfe1c-47f6-432f-99a1-1373bb4b4e38\",\"type\":\"LinearAxis\"},{\"attributes\":{\"plot\":null,\"text\":\"simple line example\"},\"id\":\"e1270723-8b0d-4fb9-ae81-b3542e75a3fb\",\"type\":\"Title\"},{\"attributes\":{},\"id\":\"8eee4913-28ac-4bf4-9b0e-6d1ec438b2f0\",\"type\":\"BasicTicker\"},{\"attributes\":{\"axis_label\":\"x\",\"formatter\":{\"id\":\"bd4d50df-0f34-4da6-a3af-cf3a079c01ab\",\"type\":\"BasicTickFormatter\"},\"plot\":{\"id\":\"8b9f0ac6-3dd4-4564-9ca2-019a86264124\",\"subtype\":\"Figure\",\"type\":\"Plot\"},\"ticker\":{\"id\":\"8eee4913-28ac-4bf4-9b0e-6d1ec438b2f0\",\"type\":\"BasicTicker\"}},\"id\":\"6f752373-5781-4343-8a51-3161472710b5\",\"type\":\"LinearAxis\"},{\"attributes\":{},\"id\":\"077a75aa-d47c-4fb3-b0d2-4a9fd12eb82d\",\"type\":\"PanTool\"}],\"root_ids\":[\"8b9f0ac6-3dd4-4564-9ca2-019a86264124\"]},\"title\":\"Bokeh Application\",\"version\":\"0.13.0\"}};\n",
       "  var render_items = [{\"docid\":\"51ce45a3-292d-4130-a2f6-3be03d3ad301\",\"roots\":{\"8b9f0ac6-3dd4-4564-9ca2-019a86264124\":\"0f854d69-62cd-4743-9806-4cc5907574dd\"}}];\n",
       "  root.Bokeh.embed.embed_items_notebook(docs_json, render_items);\n",
       "\n",
       "  }\n",
       "  if (root.Bokeh !== undefined) {\n",
       "    embed_document(root);\n",
       "  } else {\n",
       "    var attempts = 0;\n",
       "    var timer = setInterval(function(root) {\n",
       "      if (root.Bokeh !== undefined) {\n",
       "        embed_document(root);\n",
       "        clearInterval(timer);\n",
       "      }\n",
       "      attempts++;\n",
       "      if (attempts > 100) {\n",
       "        console.log(\"Bokeh: ERROR: Unable to run BokehJS code because BokehJS library is missing\")\n",
       "        clearInterval(timer);\n",
       "      }\n",
       "    }, 10, root)\n",
       "  }\n",
       "})(window);"
      ],
      "application/vnd.bokehjs_exec.v0+json": ""
     },
     "metadata": {
      "application/vnd.bokehjs_exec.v0+json": {
       "id": "8b9f0ac6-3dd4-4564-9ca2-019a86264124"
      }
     },
     "output_type": "display_data"
    }
   ],
   "source": [
    "from bokeh.plotting import figure, output_notebook, show\n",
    "\n",
    "x = [1, 2, 3, 4, 5]\n",
    "y = [6, 7, 2, 4, 5]\n",
    "\n",
    "output_notebook()\n",
    "p = figure(title=\"simple line example\", x_axis_label='x', y_axis_label='y')\n",
    "p.line(x, y, legend=\"Temp.\", line_width=2)\n",
    "# Colabis ja oma masinas võiks toimida järgnev:\n",
    "#p.line(x, y, legend_label=\"Temp.\", line_width=2)\n",
    "show(p)"
   ]
  },
  {
   "cell_type": "code",
   "execution_count": 13,
   "metadata": {
    "colab": {
     "base_uri": "https://localhost:8080/",
     "height": 35
    },
    "colab_type": "code",
    "id": "bGedZ35PcO0f",
    "outputId": "b81fb64e-3675-4b64-a046-a968fbf3305f"
   },
   "outputs": [
    {
     "name": "stdout",
     "output_type": "stream",
     "text": [
      "i'm thinking about thos beans\n"
     ]
    }
   ],
   "source": [
    "from lxml import etree\n",
    "xml = '<a href=\"https://xn--kdaa.eu\">i\\'m thinking about thos beans</a>'\n",
    "root = etree.fromstring(xml)\n",
    "print(root.text)"
   ]
  },
  {
   "cell_type": "code",
   "execution_count": 0,
   "metadata": {
    "colab": {},
    "colab_type": "code",
    "id": "rS0lhuVJ8xSu"
   },
   "outputs": [],
   "source": []
  }
 ],
 "metadata": {
  "colab": {
   "collapsed_sections": [],
   "name": "kt_praktikum_0.ipynb",
   "provenance": []
  },
  "kernelspec": {
   "display_name": "Python 3",
   "language": "python",
   "name": "python3"
  },
  "language_info": {
   "codemirror_mode": {
    "name": "ipython",
    "version": 3
   },
   "file_extension": ".py",
   "mimetype": "text/x-python",
   "name": "python",
   "nbconvert_exporter": "python",
   "pygments_lexer": "ipython3",
   "version": "3.6.13"
  }
 },
 "nbformat": 4,
 "nbformat_minor": 1
}
