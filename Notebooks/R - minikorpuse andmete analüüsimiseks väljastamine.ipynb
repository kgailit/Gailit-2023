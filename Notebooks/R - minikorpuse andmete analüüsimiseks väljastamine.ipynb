{
 "cells": [
  {
   "cell_type": "code",
   "execution_count": 1,
   "id": "46822118",
   "metadata": {},
   "outputs": [],
   "source": [
    "import json\n",
    "import pandas as pd\n",
    "from collections import defaultdict\n",
    "import os"
   ]
  },
  {
   "cell_type": "code",
   "execution_count": 2,
   "id": "f7656b3c",
   "metadata": {},
   "outputs": [],
   "source": [
    "def ava_json(failinimi):\n",
    "    with open(failinimi, \"r\", encoding = \"UTF-8\") as f:\n",
    "        return json.load(f)"
   ]
  },
  {
   "cell_type": "code",
   "execution_count": 3,
   "id": "baa8b9c6",
   "metadata": {},
   "outputs": [],
   "source": [
    "df = pd.read_csv (\"../minikorpus/skoorid.csv\")"
   ]
  },
  {
   "cell_type": "code",
   "execution_count": 4,
   "id": "3bcd178c",
   "metadata": {},
   "outputs": [],
   "source": [
    "df_drop = df.drop([\"SKOORID\", \"VASTAJAID\", \"STD\"], axis = 1)"
   ]
  },
  {
   "cell_type": "code",
   "execution_count": 5,
   "id": "7b26aed5",
   "metadata": {},
   "outputs": [],
   "source": [
    "df_form = df_drop[df[\"DIMENSIOON\"] == \"form\"].drop(\"DIMENSIOON\", axis = 1).fillna(0)\n",
    "df_spont = df_drop[df[\"DIMENSIOON\"] == \"spont\"].drop(\"DIMENSIOON\", axis = 1).fillna(0)"
   ]
  },
  {
   "cell_type": "code",
   "execution_count": 7,
   "id": "ac479156",
   "metadata": {},
   "outputs": [],
   "source": [
    "sonastik = defaultdict(lambda: dict())\n",
    "\n",
    "for file in df_form[\"FAIL\"]:\n",
    "    sonastik[file] = ava_json(os.path.join(\"../minikorpus/meta/\", file))\n",
    "    sonastik[file] = {**sonastik[file], **ava_json(os.path.join(\"../minikorpus/sõnad/\", file))}\n",
    "    sonastik[file][\"formaalsus\"] = list(df_form[df_form[\"FAIL\"] == file][\"KESKMINE SKOOR\"].items())[0][1]/3\n",
    "    sonastik[file][\"spontaansus\"] = list(df_spont[df_spont[\"FAIL\"] == file][\"KESKMINE SKOOR\"].items())[0][1]/3"
   ]
  },
  {
   "cell_type": "code",
   "execution_count": 8,
   "id": "da41c5d6",
   "metadata": {},
   "outputs": [],
   "source": [
    "df_uus = pd.DataFrame.from_dict(sonastik, orient=\"index\")"
   ]
  },
  {
   "cell_type": "code",
   "execution_count": 9,
   "id": "d72af0c7",
   "metadata": {},
   "outputs": [],
   "source": [
    "df_uus = df_uus.replace(-1, 0).drop([\"tajuverbide_osaarv\", \"korduvate_juppide_arv\"], axis = 1)"
   ]
  },
  {
   "cell_type": "code",
   "execution_count": 10,
   "id": "47f430c8",
   "metadata": {},
   "outputs": [],
   "source": [
    "df_uus.to_csv(\"../minikorpus/Randmestik.csv\")"
   ]
  }
 ],
 "metadata": {
  "kernelspec": {
   "display_name": "Python 3",
   "language": "python",
   "name": "python3"
  },
  "language_info": {
   "codemirror_mode": {
    "name": "ipython",
    "version": 3
   },
   "file_extension": ".py",
   "mimetype": "text/x-python",
   "name": "python",
   "nbconvert_exporter": "python",
   "pygments_lexer": "ipython3",
   "version": "3.6.13"
  }
 },
 "nbformat": 4,
 "nbformat_minor": 5
}
