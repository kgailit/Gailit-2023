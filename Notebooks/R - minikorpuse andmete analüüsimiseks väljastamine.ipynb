{
 "cells": [
  {
   "cell_type": "markdown",
   "id": "15abc8fc",
   "metadata": {},
   "source": [
    "Minikorpuse tegemine DataFrame-iks"
   ]
  },
  {
   "cell_type": "code",
   "execution_count": 1,
   "id": "46822118",
   "metadata": {},
   "outputs": [],
   "source": [
    "import json\n",
    "import pandas as pd\n",
    "from collections import defaultdict\n",
    "import os"
   ]
  },
  {
   "cell_type": "code",
   "execution_count": 2,
   "id": "f7656b3c",
   "metadata": {},
   "outputs": [],
   "source": [
    "def ava_json(failinimi):\n",
    "    with open(failinimi, \"r\", encoding = \"UTF-8\") as f:\n",
    "        return json.load(f)"
   ]
  },
  {
   "cell_type": "code",
   "execution_count": 3,
   "id": "baa8b9c6",
   "metadata": {},
   "outputs": [],
   "source": [
    "df = pd.read_csv(\"../minikorpus/skoorid.csv\")"
   ]
  },
  {
   "cell_type": "code",
   "execution_count": 4,
   "id": "3bcd178c",
   "metadata": {},
   "outputs": [],
   "source": [
    "df_drop = df.drop([\"SKOORID\", \"VASTAJAID\", \"STD\"], axis = 1)"
   ]
  },
  {
   "cell_type": "code",
   "execution_count": 5,
   "id": "7b26aed5",
   "metadata": {},
   "outputs": [],
   "source": [
    "df_form = df_drop[df[\"DIMENSIOON\"] == \"form\"].drop(\"DIMENSIOON\", axis = 1).fillna(0)\n",
    "df_spont = df_drop[df[\"DIMENSIOON\"] == \"spont\"].drop(\"DIMENSIOON\", axis = 1).fillna(0)"
   ]
  },
  {
   "cell_type": "code",
   "execution_count": 6,
   "id": "ac479156",
   "metadata": {},
   "outputs": [],
   "source": [
    "sonastik = defaultdict(lambda: dict())\n",
    "\n",
    "for file in df_form[\"FAIL\"]:\n",
    "    sonastik[file] = ava_json(os.path.join(\"../minikorpus/mini_andmed/\", file.split(\".txt\")[0] + \"_andmed.json\"))\n",
    "    sonastik[file][\"formaalsus\"] = list(df_form[df_form[\"FAIL\"] == file][\"KESKMINE SKOOR\"].items())[0][1]/3\n",
    "    sonastik[file][\"spontaansus\"] = list(df_spont[df_spont[\"FAIL\"] == file][\"KESKMINE SKOOR\"].items())[0][1]/3"
   ]
  },
  {
   "cell_type": "code",
   "execution_count": 7,
   "id": "da41c5d6",
   "metadata": {},
   "outputs": [],
   "source": [
    "df_uus = pd.DataFrame.from_dict(sonastik, orient=\"index\")"
   ]
  },
  {
   "cell_type": "code",
   "execution_count": 8,
   "id": "d72af0c7",
   "metadata": {},
   "outputs": [],
   "source": [
    "df_uus = df_uus.replace(-1, 0)"
   ]
  },
  {
   "cell_type": "markdown",
   "id": "38522f9d",
   "metadata": {},
   "source": [
    "Lisandi tegemine DataFrame-iks"
   ]
  },
  {
   "cell_type": "code",
   "execution_count": 10,
   "id": "b1133aaa",
   "metadata": {},
   "outputs": [],
   "source": [
    "df = pd.read_csv(\"../minikorpus/lisa_nimed.txt\")"
   ]
  },
  {
   "cell_type": "code",
   "execution_count": 11,
   "id": "5fee7124",
   "metadata": {},
   "outputs": [],
   "source": [
    "sonastik = defaultdict(lambda: dict())\n",
    "\n",
    "for _, row in df.iterrows():\n",
    "    file = row[\"failinimi\"]\n",
    "    sonastik[file] = ava_json(os.path.join(\"../minikorpus/lisa_andmed/\",  file.split(\".xml\")[0] + \"_andmed.json\"))\n",
    "    sonastik[file][\"formaalsus\"] = row[\"formaalsus\"]\n",
    "    sonastik[file][\"spontaansus\"] = row[\"spontaansus\"]"
   ]
  },
  {
   "cell_type": "code",
   "execution_count": 12,
   "id": "9aa8808b",
   "metadata": {},
   "outputs": [],
   "source": [
    "df_uus2 = pd.DataFrame.from_dict(sonastik, orient=\"index\")"
   ]
  },
  {
   "cell_type": "code",
   "execution_count": 13,
   "id": "9a9442fc",
   "metadata": {},
   "outputs": [],
   "source": [
    "df_uus2 = df_uus2.replace(-1, 0)"
   ]
  },
  {
   "cell_type": "markdown",
   "id": "94686076",
   "metadata": {},
   "source": [
    "DataFrame'id kokku"
   ]
  },
  {
   "cell_type": "code",
   "execution_count": 15,
   "id": "27db6f43",
   "metadata": {},
   "outputs": [],
   "source": [
    "df_koos = pd.concat([df_uus, df_uus2])"
   ]
  },
  {
   "cell_type": "code",
   "execution_count": 16,
   "id": "47f430c8",
   "metadata": {},
   "outputs": [],
   "source": [
    "df_koos.to_csv(\"../minikorpus/Randmestik.csv\")"
   ]
  }
 ],
 "metadata": {
  "kernelspec": {
   "display_name": "Python 3",
   "language": "python",
   "name": "python3"
  },
  "language_info": {
   "codemirror_mode": {
    "name": "ipython",
    "version": 3
   },
   "file_extension": ".py",
   "mimetype": "text/x-python",
   "name": "python",
   "nbconvert_exporter": "python",
   "pygments_lexer": "ipython3",
   "version": "3.6.13"
  }
 },
 "nbformat": 4,
 "nbformat_minor": 5
}
