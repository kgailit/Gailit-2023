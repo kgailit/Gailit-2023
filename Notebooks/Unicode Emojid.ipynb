{
 "cells": [
  {
   "cell_type": "code",
   "execution_count": 1,
   "id": "isolated-mission",
   "metadata": {},
   "outputs": [],
   "source": [
    "import requests\n",
    "\n",
    "URL = 'https://unicode.org/emoji/charts/full-emoji-list.html'\n",
    "page = requests.get(URL)"
   ]
  },
  {
   "cell_type": "code",
   "execution_count": 2,
   "id": "federal-therapist",
   "metadata": {},
   "outputs": [],
   "source": [
    "from bs4 import BeautifulSoup\n",
    "soup = BeautifulSoup(page.content, 'html.parser')"
   ]
  },
  {
   "cell_type": "code",
   "execution_count": 4,
   "id": "inclusive-andrews",
   "metadata": {},
   "outputs": [],
   "source": [
    "results = soup.find_all(\"td\", class_=\"chars\")"
   ]
  },
  {
   "cell_type": "code",
   "execution_count": 9,
   "id": "judicial-depression",
   "metadata": {},
   "outputs": [],
   "source": [
    "import re"
   ]
  },
  {
   "cell_type": "code",
   "execution_count": 13,
   "id": "strange-nursery",
   "metadata": {},
   "outputs": [],
   "source": [
    "with open(\"unicode_emojis.txt\", \"w\", encoding=\"UTF-8\") as fw:\n",
    "    for emoji in results:\n",
    "        string = str(emoji)\n",
    "        string = re.sub('<.*?>', '', string)\n",
    "        fw.write(string + \"\\n\")"
   ]
  }
 ],
 "metadata": {
  "kernelspec": {
   "display_name": "Python 3",
   "language": "python",
   "name": "python3"
  },
  "language_info": {
   "codemirror_mode": {
    "name": "ipython",
    "version": 3
   },
   "file_extension": ".py",
   "mimetype": "text/x-python",
   "name": "python",
   "nbconvert_exporter": "python",
   "pygments_lexer": "ipython3",
   "version": "3.5.6"
  }
 },
 "nbformat": 4,
 "nbformat_minor": 5
}
