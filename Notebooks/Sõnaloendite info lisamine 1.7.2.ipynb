{
 "cells": [
  {
   "cell_type": "code",
   "execution_count": 11,
   "id": "ece6694d",
   "metadata": {},
   "outputs": [],
   "source": [
    "from estnltk import Text\n",
    "from estnltk.taggers import VabamorfTagger\n",
    "from estnltk.taggers import SpellCheckRetagger\n",
    "import json\n",
    "import os\n",
    "from collections import defaultdict\n",
    "import string \n",
    "import nltk\n",
    "from collections import Counter\n",
    "import re\n",
    "from estnltk.layer_operations import split_by\n",
    "from estnltk.converters import json_to_text"
   ]
  },
  {
   "cell_type": "code",
   "execution_count": 13,
   "id": "67562523",
   "metadata": {},
   "outputs": [],
   "source": [
    "def sõnaloendi_osaarv(oletamisega):\n",
    "    kokku = len(oletamisega.words)\n",
    "    loendites = defaultdict(lambda: 0)\n",
    "    \n",
    "    for key in loendite_loend.keys():\n",
    "        loend = loendite_loend[key]\n",
    "        loendites[key] = 0\n",
    "        for word in oletamisega.words:\n",
    "            sona = word.text.lower()\n",
    "            lemmad = word.lemma\n",
    "            if sona in loend:\n",
    "                loendites[key] += 1\n",
    "            else:\n",
    "                for lemma in lemmad:\n",
    "                    if lemma.lower() in loend:\n",
    "                        loendites[key] += 1\n",
    "                        break\n",
    "                \n",
    "    for key in loendites.keys():\n",
    "        loendites[key] = loendites[key]/kokku\n",
    "        \n",
    "    return loendites"
   ]
  },
  {
   "cell_type": "code",
   "execution_count": 12,
   "id": "062b188e",
   "metadata": {},
   "outputs": [],
   "source": [
    "loendite_loend = defaultdict(lambda: list())\n",
    "\n",
    "for file in [f for f in os.listdir(\"../Loendid/Leksikonid\")]:\n",
    "    with open(\"../Loendid/Leksikonid/\" + file, \"r\", encoding=\"UTF-8\") as fr:\n",
    "        loendite_loend[file.split(\".\")[0]] = [i.strip().lower() for i in fr.readlines()]"
   ]
  },
  {
   "cell_type": "code",
   "execution_count": 9,
   "id": "25117b57",
   "metadata": {},
   "outputs": [],
   "source": [
    "# Kaustade nimed\n",
    "source = \"../etnc19_web_2019_morf_oletamisega\"\n",
    "target1 = \"../etnc19_web_2019_sõnad\""
   ]
  },
  {
   "cell_type": "code",
   "execution_count": 10,
   "id": "636171a2",
   "metadata": {},
   "outputs": [],
   "source": [
    "sonaloend = defaultdict(lambda: defaultdict(lambda: 0))\n",
    "\n",
    "for file in [f for f in os.listdir(source)]:\n",
    "    oletamisega = json_to_text(file = os.path.join(source, file))\n",
    "    \n",
    "    sonastik = sõnaloendi_osaarv(oletamisega)\n",
    "    \n",
    "    with open(os.path.join(target1, file), \"w\", encoding=\"UTF-8\") as fw:\n",
    "        json.dump(sonastik, fw, sort_keys=True, indent=4, ensure_ascii=False)"
   ]
  },
  {
   "cell_type": "code",
   "execution_count": null,
   "id": "bebc8fca",
   "metadata": {},
   "outputs": [],
   "source": [
    "#Minikorpus"
   ]
  },
  {
   "cell_type": "code",
   "execution_count": 4,
   "id": "977a3be5",
   "metadata": {},
   "outputs": [],
   "source": [
    "from estnltk import Text\n",
    "import json\n",
    "import os\n",
    "from collections import defaultdict\n",
    "import string \n",
    "import nltk\n",
    "from collections import Counter\n",
    "import re\n",
    "from estnltk.taggers import VabamorfTagger\n",
    "\n",
    "from estnltk import Span, Layer\n",
    "from estnltk.tests import new_text\n",
    "from estnltk.converters import text_to_json"
   ]
  },
  {
   "cell_type": "code",
   "execution_count": 5,
   "id": "a9c238ad",
   "metadata": {},
   "outputs": [],
   "source": [
    "source = \"../minikorpus/mini_lisa\"\n",
    "target1 = \"../minikorpus/etnc19_web_2019_sõnad\""
   ]
  },
  {
   "cell_type": "code",
   "execution_count": null,
   "id": "7e7e550f",
   "metadata": {},
   "outputs": [],
   "source": [
    "oletamisega_morph_tagger = VabamorfTagger(guess=True, propername=True, disambiguate=True)\n",
    "\n",
    "for file in [f for f in os.listdir(source)]:\n",
    "    with open(os.path.join(source, file), \"r\", encoding=\"UTF-8\") as f:\n",
    "        \n",
    "        oletamisega = Text(\"\\n\".join(f.readlines()))\n",
    "        \n",
    "        oletamisega.tag_layer(['words', 'sentences', 'compound_tokens'])\n",
    "        oletamisega_morph_tagger.tag( oletamisega )\n",
    "        \n",
    "        sonastik = sõnaloendi_osaarv(oletamisega)\n",
    "\n",
    "        with open(os.path.join(target1, file), \"w\", encoding=\"UTF-8\") as fw:\n",
    "            json.dump(sonastik, fw, sort_keys=True, indent=4, ensure_ascii=False)"
   ]
  },
  {
   "cell_type": "code",
   "execution_count": null,
   "id": "e4cd01d5",
   "metadata": {},
   "outputs": [],
   "source": [
    "source = \"../minikorpus/tekstid\"\n",
    "target1 = \"../minikorpus/sõnad\""
   ]
  },
  {
   "cell_type": "code",
   "execution_count": null,
   "id": "53a78394",
   "metadata": {},
   "outputs": [],
   "source": [
    "oletamisega_morph_tagger = VabamorfTagger(guess=True, propername=True, disambiguate=True)\n",
    "\n",
    "for file in [f for f in os.listdir(source)]:\n",
    "    with open(os.path.join(source, file), \"r\", encoding=\"UTF-8\") as f:\n",
    "        \n",
    "        oletamisega = Text(\"\\n\".join(f.readlines()))\n",
    "        \n",
    "        oletamisega.tag_layer(['words', 'sentences', 'compound_tokens'])\n",
    "        oletamisega_morph_tagger.tag( oletamisega )\n",
    "        \n",
    "        sonastik = sõnaloendi_osaarv(oletamisega)\n",
    "\n",
    "        with open(os.path.join(target1, file), \"w\", encoding=\"UTF-8\") as fw:\n",
    "            json.dump(sonastik, fw, sort_keys=True, indent=4, ensure_ascii=False)"
   ]
  }
 ],
 "metadata": {
  "kernelspec": {
   "display_name": "Python 3",
   "language": "python",
   "name": "python3"
  },
  "language_info": {
   "codemirror_mode": {
    "name": "ipython",
    "version": 3
   },
   "file_extension": ".py",
   "mimetype": "text/x-python",
   "name": "python",
   "nbconvert_exporter": "python",
   "pygments_lexer": "ipython3",
   "version": "3.6.13"
  }
 },
 "nbformat": 4,
 "nbformat_minor": 5
}
