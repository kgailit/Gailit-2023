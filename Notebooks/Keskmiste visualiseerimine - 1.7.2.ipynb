{
 "cells": [
  {
   "cell_type": "code",
   "execution_count": 2,
   "id": "floppy-prevention",
   "metadata": {},
   "outputs": [],
   "source": [
    "import json\n",
    "import os\n",
    "import pandas as pd\n",
    "import matplotlib.pyplot as plt\n",
    "import numpy as np"
   ]
  },
  {
   "cell_type": "code",
   "execution_count": 2,
   "id": "wrong-hostel",
   "metadata": {},
   "outputs": [],
   "source": [
    "andmestik = None\n",
    "\n",
    "# Avab järjest kõik failid algkaustas\n",
    "for file in [f for f in os.listdir(\"../etnc19_web_2019_andmed/\")]:\n",
    "    filename = os.path.join(\"../etnc19_web_2019_andmed/\", file)\n",
    "    with open(filename, \"r\", encoding = \"utf-8\") as fr:\n",
    "        andmed = json.load(fr)\n",
    "        \n",
    "        if andmestik is None:\n",
    "            andmestik = pd.DataFrame.from_dict([andmed])\n",
    "        else:\n",
    "            andmestik = andmestik.append(pd.DataFrame.from_dict([andmed]), ignore_index=True)"
   ]
  },
  {
   "cell_type": "code",
   "execution_count": 4,
   "id": "known-thing",
   "metadata": {},
   "outputs": [],
   "source": [
    "for tunnus in andmestik:\n",
    "\n",
    "    andmed = andmestik.loc[andmestik[tunnus] > -1][tunnus].sort_values()\n",
    "    \n",
    "    plt.hist(andmed, bins = 500)\n",
    "    \n",
    "    plt.rcParams[\"figure.figsize\"] = (20,10)\n",
    "    \n",
    "    #plt.xticks([x * 0.1 for x in range(10)])\n",
    "    \n",
    "    plt.title(\"Alamkorpuse \" + tunnus)\n",
    "    \n",
    "    keskmine = andmed.mean()\n",
    "    \n",
    "    plt.axvline(keskmine, color='red', linestyle='dashed', linewidth=1)\n",
    "    \n",
    "    min_ylim, max_ylim = plt.ylim()\n",
    "    plt.text(keskmine, max_ylim*1.01, 'Mean: {:.2f}'.format(keskmine), color='red')\n",
    "    \n",
    "    \n",
    "    if tunnus in ['TTR', 'lemmapikkuse_osaarv', 'käändsõnade_osaarv']:\n",
    "        plt.figtext(0.5, -0.3, \"{}\".format(andmed.describe(percentiles=np.arange(0, 1, 1/11))), style='italic',\n",
    "            bbox={'facecolor': 'red', 'alpha': 0, 'pad': 10})\n",
    "    else:\n",
    "        plt.figtext(0.5, -0.3, \"{}\".format(andmed.describe(percentiles=np.arange(0, 1, 1/6))), style='italic',\n",
    "            bbox={'facecolor': 'red', 'alpha': 0, 'pad': 10})\n",
    "    \n",
    "    plt.savefig('../Graafid/kõik/{}.png'.format(tunnus), bbox_inches='tight')\n",
    "    \n",
    "    plt.close()\n",
    "\n",
    "    andmed = andmestik.loc[andmestik[tunnus] > 0][tunnus].sort_values()\n",
    "    \n",
    "    plt.hist(andmed, bins = 500)\n",
    "    \n",
    "    plt.rcParams[\"figure.figsize\"] = (20,10)\n",
    "    \n",
    "    #plt.xticks([x * 0.1 for x in range(10)])\n",
    "    \n",
    "    plt.title(\"Alamkorpuse \" + tunnus)\n",
    "    \n",
    "    keskmine = andmed.mean()\n",
    "    \n",
    "    plt.axvline(keskmine, color='red', linestyle='dashed', linewidth=1)\n",
    "    \n",
    "    min_ylim, max_ylim = plt.ylim()\n",
    "    plt.text(keskmine, max_ylim*1.01, 'Mean: {:.2f}'.format(keskmine), color='red')\n",
    "    \n",
    "    \n",
    "    if tunnus in ['TTR', 'lemmapikkuse_osaarv', 'käändsõnade_osaarv']:\n",
    "        plt.figtext(0.5, -0.3, \"{}\".format(andmed.describe(percentiles=np.arange(0, 1, 1/11))), style='italic',\n",
    "            bbox={'facecolor': 'red', 'alpha': 0, 'pad': 10})\n",
    "    else:\n",
    "        plt.figtext(0.5, -0.3, \"{}\".format(andmed.describe(percentiles=np.arange(0, 1, 1/6))), style='italic',\n",
    "            bbox={'facecolor': 'red', 'alpha': 0, 'pad': 10})\n",
    "    \n",
    "    plt.savefig('../Graafid/vaidLeidub/{}.png'.format(tunnus), bbox_inches='tight')\n",
    "    \n",
    "    plt.close()"
   ]
  },
  {
   "cell_type": "markdown",
   "id": "international-bailey",
   "metadata": {},
   "source": [
    "Skooride keskmised"
   ]
  },
  {
   "cell_type": "code",
   "execution_count": 4,
   "id": "painful-mailman",
   "metadata": {},
   "outputs": [],
   "source": [
    "skooristik = None\n",
    "\n",
    "# Avab järjest kõik failid algkaustas\n",
    "for file in [f for f in os.listdir(\"etnc19_web_2019_skoorid/\")]:\n",
    "    filename = os.path.join(\"etnc19_web_2019_skoorid/\", file)\n",
    "    with open(filename, \"r\", encoding = \"utf-8\") as fr:\n",
    "        andmed = json.load(fr)\n",
    "        \n",
    "        if skooristik is None:\n",
    "            skooristik = pd.DataFrame.from_dict([andmed])\n",
    "        else:\n",
    "            skooristik = skooristik.append(pd.DataFrame.from_dict([andmed]), ignore_index=True)"
   ]
  },
  {
   "cell_type": "code",
   "execution_count": 5,
   "id": "electoral-saying",
   "metadata": {},
   "outputs": [
    {
     "ename": "TypeError",
     "evalue": "'NoneType' object is not iterable",
     "output_type": "error",
     "traceback": [
      "\u001b[1;31m---------------------------------------------------------------------------\u001b[0m",
      "\u001b[1;31mTypeError\u001b[0m                                 Traceback (most recent call last)",
      "\u001b[1;32m<ipython-input-5-dc4560080016>\u001b[0m in \u001b[0;36m<module>\u001b[1;34m\u001b[0m\n\u001b[1;32m----> 1\u001b[1;33m \u001b[1;32mfor\u001b[0m \u001b[0mtunnus\u001b[0m \u001b[1;32min\u001b[0m \u001b[0mskooristik\u001b[0m\u001b[1;33m:\u001b[0m\u001b[1;33m\u001b[0m\u001b[1;33m\u001b[0m\u001b[0m\n\u001b[0m\u001b[0;32m      2\u001b[0m \u001b[1;33m\u001b[0m\u001b[0m\n\u001b[0;32m      3\u001b[0m     \u001b[0mandmed\u001b[0m \u001b[1;33m=\u001b[0m \u001b[0mskooristik\u001b[0m\u001b[1;33m.\u001b[0m\u001b[0mloc\u001b[0m\u001b[1;33m[\u001b[0m\u001b[0mskooristik\u001b[0m\u001b[1;33m[\u001b[0m\u001b[0mtunnus\u001b[0m\u001b[1;33m]\u001b[0m \u001b[1;33m!=\u001b[0m \u001b[1;33m-\u001b[0m\u001b[1;36m1\u001b[0m\u001b[1;33m]\u001b[0m\u001b[1;33m[\u001b[0m\u001b[0mtunnus\u001b[0m\u001b[1;33m]\u001b[0m\u001b[1;33m.\u001b[0m\u001b[0msort_values\u001b[0m\u001b[1;33m(\u001b[0m\u001b[1;33m)\u001b[0m\u001b[1;33m\u001b[0m\u001b[1;33m\u001b[0m\u001b[0m\n\u001b[0;32m      4\u001b[0m \u001b[1;33m\u001b[0m\u001b[0m\n\u001b[0;32m      5\u001b[0m     \u001b[0mplt\u001b[0m\u001b[1;33m.\u001b[0m\u001b[0mhist\u001b[0m\u001b[1;33m(\u001b[0m\u001b[0mandmed\u001b[0m\u001b[1;33m,\u001b[0m \u001b[0mbins\u001b[0m \u001b[1;33m=\u001b[0m \u001b[1;36m1000\u001b[0m\u001b[1;33m)\u001b[0m\u001b[1;33m\u001b[0m\u001b[1;33m\u001b[0m\u001b[0m\n",
      "\u001b[1;31mTypeError\u001b[0m: 'NoneType' object is not iterable"
     ]
    }
   ],
   "source": [
    "for tunnus in skooristik:\n",
    "\n",
    "    andmed = skooristik.loc[skooristik[tunnus] != -1][tunnus].sort_values()\n",
    "    \n",
    "    plt.hist(andmed, bins = 1000)\n",
    "    \n",
    "    plt.rcParams[\"figure.figsize\"] = (20,10)\n",
    "    \n",
    "    #plt.xticks([x * 0.1 for x in range(10)])\n",
    "    \n",
    "    plt.title(\"Skoor tunnusest: \" + tunnus)\n",
    "    \n",
    "    keskmine = andmed.mean()\n",
    "    \n",
    "    plt.savefig('Graafid/skoorid/{}.png'.format(tunnus), bbox_inches='tight')\n",
    "    \n",
    "    plt.close()"
   ]
  },
  {
   "cell_type": "code",
   "execution_count": null,
   "id": "atmospheric-coffee",
   "metadata": {},
   "outputs": [],
   "source": [
    "skooristik"
   ]
  },
  {
   "cell_type": "code",
   "execution_count": null,
   "id": "associate-hughes",
   "metadata": {},
   "outputs": [],
   "source": [
    "for dimensioon in ('formaalsus', 'spontaansus'):\n",
    "    skooristik.sort_values(by=dimensioon).to_csv(\"hinnangud_\" + dimensioon + \".csv\")"
   ]
  },
  {
   "cell_type": "code",
   "execution_count": null,
   "id": "sealed-elder",
   "metadata": {},
   "outputs": [],
   "source": [
    "skooristik.sort_values(by='formaalsus')"
   ]
  },
  {
   "cell_type": "markdown",
   "id": "6b30a19c",
   "metadata": {},
   "source": [
    "tunnuste suunad"
   ]
  },
  {
   "cell_type": "code",
   "execution_count": 11,
   "id": "80b0a468",
   "metadata": {},
   "outputs": [],
   "source": [
    "randmestik = pd.read_csv('../minikorpus/Randmestik.csv')"
   ]
  },
  {
   "cell_type": "code",
   "execution_count": 12,
   "id": "1b778b36",
   "metadata": {},
   "outputs": [],
   "source": [
    "tunnused = randmestik.drop([\"Unnamed: 0\", \"spontaansus\", \"formaalsus\"], axis = 1)"
   ]
  },
  {
   "cell_type": "code",
   "execution_count": 17,
   "id": "05839b2f",
   "metadata": {},
   "outputs": [],
   "source": [
    "for tulp in tunnused:\n",
    "    y = tunnused[tulp]\n",
    "    \n",
    "    for dim in ['spontaansus', 'formaalsus']:\n",
    "        \n",
    "        x = randmestik[dim]\n",
    "        \n",
    "        dim_uus = dim.capitalize()\n",
    "        \n",
    "        if tulp == \"TTR\":\n",
    "            tulp_uus = \"Sõnavara mitmekesisus\"\n",
    "        elif tulp == \"asesõnade_esimese_isiku_osaarv\":\n",
    "            tulp_uus = \"Asesõnade esimese isiku protsent\"\n",
    "        elif tulp == \"asesõnade_kolmanda_isiku_osaarv\":\n",
    "            tulp_uus = \"Asesõnade kolmanda isiku protsent\"\n",
    "        elif tulp == \"asesõnade_teise_isiku_osaarv\":\n",
    "            tulp_uus = \"Asesõnade teise isiku protsent\"\n",
    "        elif tulp == \"emotikonide_arv\":\n",
    "            tulp_uus = \"Emotikonide arv\"\n",
    "        elif tulp == \"kaudse_kõneviisi_osakaal\":\n",
    "            tulp_uus = \"Kaudse kõneviisi protsent\"\n",
    "        elif tulp == \"kokkukleepunud_kirjavahemärkide_arv\":\n",
    "            tulp_uus = \"Puuduva tühikuga kirjavahemärgid\"\n",
    "        elif tulp == \"korduvate_juppide_arv\":\n",
    "            tulp_uus = \"Sõnasiseste korduste arv\"\n",
    "        elif tulp == \"korduvate_sõnade_arv\":\n",
    "            tulp_uus = \"Korduvate sõnade arv\"\n",
    "        elif tulp == \"käändsõnade_osaarv\":\n",
    "            tulp_uus = \"Käändsõnade protsent\"\n",
    "        elif tulp == \"leksikonides_esinevade_osaarv\":\n",
    "            tulp_uus = \"Leksikonides esinevate sõnade protsent\"\n",
    "        elif tulp == \"lemmapikkuse_osaarv\":\n",
    "            tulp_uus = \"Keskmine lemmapikkus\"\n",
    "        elif tulp == \"läbinisti_suur\":\n",
    "            tulp_uus = \"Läbinisti suurtäheliste sõnade protsent\"\n",
    "        elif tulp == \"nud-partitsiibiga_verbide_osakaal\":\n",
    "            tulp_uus = \"nud-partitsiipidega verbide protsent\"\n",
    "        elif tulp == \"passiivi_osakaal\":\n",
    "            tulp_uus = \"Umbisikulise tegumoe protsent\"\n",
    "        elif tulp == \"puuduva_suure_algustähega\":\n",
    "            tulp_uus = \"Puuduva suure algustähega sõnade protsent\"\n",
    "        elif tulp == \"tajuverbide_osaarv\":\n",
    "            tulp_uus = \"Tajuverbide protsent\"\n",
    "        elif tulp == \"verbide_esimese_isiku_osaarv\":\n",
    "            tulp_uus = \"Verbide esimese isiku protsent\"\n",
    "        elif tulp == \"verbide_kolmanda_isiku_osaarv\":\n",
    "            tulp_uus = \"Verbide kolmanda isiku protsent\"\n",
    "        elif tulp == \"verbide_teise_isiku_osaarv\":\n",
    "            tulp_uus = \"Verbide teise isiku protsent\"\n",
    "        \n",
    "        plt.plot(x, y, 'o')\n",
    "        plt.rcParams[\"figure.figsize\"] = (5,5)\n",
    "        plt.title(dim_uus + \" ja \" + tulp_uus.lower())\n",
    "        \n",
    "        m, b = np.polyfit(x, y, 1)\n",
    "        \n",
    "        plt.plot(x, m*x+b)\n",
    "        \n",
    "        plt.xlabel(dim_uus)\n",
    "        plt.ylabel(tulp_uus)\n",
    "        \n",
    "        plt.savefig('../minikorpus/graafid/{}.png'.format(\" ja \".join([tulp_uus, dim_uus])), bbox_inches='tight')\n",
    "        \n",
    "        plt.close()"
   ]
  },
  {
   "cell_type": "markdown",
   "id": "2df879ab",
   "metadata": {},
   "source": [
    "Hinnangud graafideks"
   ]
  },
  {
   "cell_type": "code",
   "execution_count": 3,
   "id": "66e005f3",
   "metadata": {},
   "outputs": [],
   "source": [
    "randmestik = pd.read_csv('../minikorpus/Randmestik.csv')"
   ]
  },
  {
   "cell_type": "code",
   "execution_count": 6,
   "id": "43b583db",
   "metadata": {},
   "outputs": [],
   "source": [
    "formaalsus_inim = []\n",
    "formaalsus_baka = []\n",
    "formaalsus_maka = []\n",
    "\n",
    "spontaansus_inim = []\n",
    "spontaansus_baka = []\n",
    "spontaansus_maka = []\n",
    "\n",
    "for _, row in randmestik.iterrows():\n",
    "    omanimi = \"../minikorpus/skoorid_koos/\" + \".\".join(row[\"Unnamed: 0\"].split(\".\")[:-1]) + \"_andmed.json\"\n",
    "    bakanimi = \"../minikorpus/baka_teisendatud/\" + row[\"Unnamed: 0\"]\n",
    "    \n",
    "    formaalsus_inim.append(row[\"formaalsus\"])\n",
    "    spontaansus_inim.append(row[\"spontaansus\"])\n",
    "    \n",
    "    with open(omanimi, \"r\") as f:\n",
    "        data = json.load(f)\n",
    "        formaalsus_maka.append(data[\"formaalsus_kaalud\"])\n",
    "        spontaansus_maka.append(data[\"spontaansus_kaalud_sujuv\"])\n",
    "    \n",
    "    with open(bakanimi, \"r\") as f:\n",
    "        data = json.load(f)\n",
    "        formaalsus_baka.append(data[\"formaalsus\"])\n",
    "        spontaansus_baka.append(data[\"spontaansus\"])"
   ]
  },
  {
   "cell_type": "code",
   "execution_count": 10,
   "id": "6dc8808a",
   "metadata": {},
   "outputs": [
    {
     "data": {
      "image/png": "[encoded data removed]",
      "text/plain": [
       "<Figure size 864x720 with 1 Axes>"
      ]
     },
     "metadata": {
      "needs_background": "light"
     },
     "output_type": "display_data"
    }
   ],
   "source": [
    "plt.plot(formaalsus_inim, formaalsus_baka, 's')\n",
    "plt.plot(formaalsus_inim, formaalsus_maka, 'o')\n",
    "plt.rcParams[\"figure.figsize\"] = (12,10)\n",
    "plt.title(\"Formaalsuse võrdlus\")\n",
    "\n",
    "m, b = np.polyfit([0,1], [0,1], 1)\n",
    "\n",
    "plt.plot((0,1), (0,1))\n",
    "\n",
    "plt.xlabel(\"dim_uus\")\n",
    "plt.ylabel(\"tulp_uus\")\n",
    "\n",
    "plt.savefig('../minikorpus/formaalsus.png')"
   ]
  }
 ],
 "metadata": {
  "kernelspec": {
   "display_name": "Python 3",
   "language": "python",
   "name": "python3"
  },
  "language_info": {
   "codemirror_mode": {
    "name": "ipython",
    "version": 3
   },
   "file_extension": ".py",
   "mimetype": "text/x-python",
   "name": "python",
   "nbconvert_exporter": "python",
   "pygments_lexer": "ipython3",
   "version": "3.6.13"
  }
 },
 "nbformat": 4,
 "nbformat_minor": 5
}
