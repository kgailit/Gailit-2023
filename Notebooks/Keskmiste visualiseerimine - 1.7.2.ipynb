{
 "cells": [
  {
   "cell_type": "code",
   "execution_count": 1,
   "id": "floppy-prevention",
   "metadata": {},
   "outputs": [],
   "source": [
    "import json\n",
    "import os\n",
    "import pandas as pd\n",
    "import matplotlib.pyplot as plt\n",
    "import numpy as np"
   ]
  },
  {
   "cell_type": "code",
   "execution_count": 20,
   "id": "191363af",
   "metadata": {},
   "outputs": [
    {
     "name": "stderr",
     "output_type": "stream",
     "text": [
      "Python 3.6.13 :: Anaconda, Inc.\n"
     ]
    }
   ],
   "source": [
    "!python --version"
   ]
  },
  {
   "cell_type": "code",
   "execution_count": 2,
   "id": "wrong-hostel",
   "metadata": {},
   "outputs": [],
   "source": [
    "andmestik = None\n",
    "\n",
    "# Avab järjest kõik failid algkaustas\n",
    "for file in [f for f in os.listdir(\"../etnc19_web_2019_andmed/\")]:\n",
    "    filename = os.path.join(\"../etnc19_web_2019_andmed/\", file)\n",
    "    with open(filename, \"r\", encoding = \"utf-8\") as fr:\n",
    "        andmed = json.load(fr)\n",
    "        \n",
    "        if andmestik is None:\n",
    "            andmestik = pd.DataFrame.from_dict([andmed])\n",
    "        else:\n",
    "            andmestik = andmestik.append(pd.DataFrame.from_dict([andmed]), ignore_index=True)"
   ]
  },
  {
   "cell_type": "code",
   "execution_count": 3,
   "id": "known-thing",
   "metadata": {},
   "outputs": [],
   "source": [
    "for tunnus in andmestik:\n",
    "\n",
    "    andmed = andmestik.loc[andmestik[tunnus] > -1][tunnus].sort_values()\n",
    "    \n",
    "    plt.hist(andmed, bins = 500)\n",
    "    \n",
    "    plt.rcParams[\"figure.figsize\"] = (20,10)\n",
    "    \n",
    "    #plt.xticks([x * 0.1 for x in range(10)])\n",
    "    \n",
    "    plt.title(\"Alamkorpuse \" + tunnus)\n",
    "    \n",
    "    keskmine = andmed.mean()\n",
    "    \n",
    "    plt.axvline(keskmine, color='red', linestyle='dashed', linewidth=1)\n",
    "    \n",
    "    min_ylim, max_ylim = plt.ylim()\n",
    "    plt.text(keskmine, max_ylim*1.01, 'Mean: {:.2f}'.format(keskmine), color='red')\n",
    "    \n",
    "    \n",
    "    if tunnus in ['TTR', 'lemmapikkuse_osaarv', 'käändsõnade_osaarv']:\n",
    "        plt.figtext(0.5, -0.3, \"{}\".format(andmed.describe(percentiles=np.arange(0, 1, 1/11))), style='italic',\n",
    "            bbox={'facecolor': 'red', 'alpha': 0, 'pad': 10})\n",
    "    else:\n",
    "        plt.figtext(0.5, -0.3, \"{}\".format(andmed.describe(percentiles=np.arange(0, 1, 1/6))), style='italic',\n",
    "            bbox={'facecolor': 'red', 'alpha': 0, 'pad': 10})\n",
    "    \n",
    "    plt.savefig('../Graafid/kõik/{}.png'.format(tunnus), bbox_inches='tight')\n",
    "    \n",
    "    plt.close()\n",
    "\n",
    "    andmed = andmestik.loc[andmestik[tunnus] > 0][tunnus].sort_values()\n",
    "    \n",
    "    plt.hist(andmed, bins = 500)\n",
    "    \n",
    "    plt.rcParams[\"figure.figsize\"] = (20,10)\n",
    "    \n",
    "    #plt.xticks([x * 0.1 for x in range(10)])\n",
    "    \n",
    "    plt.title(\"Alamkorpuse \" + tunnus)\n",
    "    \n",
    "    keskmine = andmed.mean()\n",
    "    \n",
    "    plt.axvline(keskmine, color='red', linestyle='dashed', linewidth=1)\n",
    "    \n",
    "    min_ylim, max_ylim = plt.ylim()\n",
    "    plt.text(keskmine, max_ylim*1.01, 'Mean: {:.2f}'.format(keskmine), color='red')\n",
    "    \n",
    "    \n",
    "    if tunnus in ['TTR', 'lemmapikkuse_osaarv', 'käändsõnade_osaarv']:\n",
    "        plt.figtext(0.5, -0.3, \"{}\".format(andmed.describe(percentiles=np.arange(0, 1, 1/11))), style='italic',\n",
    "            bbox={'facecolor': 'red', 'alpha': 0, 'pad': 10})\n",
    "    else:\n",
    "        plt.figtext(0.5, -0.3, \"{}\".format(andmed.describe(percentiles=np.arange(0, 1, 1/6))), style='italic',\n",
    "            bbox={'facecolor': 'red', 'alpha': 0, 'pad': 10})\n",
    "    \n",
    "    plt.savefig('../Graafid/vaidLeidub/{}.png'.format(tunnus), bbox_inches='tight')\n",
    "    \n",
    "    plt.close()"
   ]
  },
  {
   "cell_type": "markdown",
   "id": "international-bailey",
   "metadata": {},
   "source": [
    "Skooride keskmised"
   ]
  },
  {
   "cell_type": "code",
   "execution_count": 4,
   "id": "painful-mailman",
   "metadata": {},
   "outputs": [],
   "source": [
    "skooristik = None\n",
    "\n",
    "# Avab järjest kõik failid algkaustas\n",
    "for file in [f for f in os.listdir(\"etnc19_web_2019_skoorid/\")]:\n",
    "    filename = os.path.join(\"etnc19_web_2019_skoorid/\", file)\n",
    "    with open(filename, \"r\", encoding = \"utf-8\") as fr:\n",
    "        andmed = json.load(fr)\n",
    "        \n",
    "        if skooristik is None:\n",
    "            skooristik = pd.DataFrame.from_dict([andmed])\n",
    "        else:\n",
    "            skooristik = skooristik.append(pd.DataFrame.from_dict([andmed]), ignore_index=True)"
   ]
  },
  {
   "cell_type": "code",
   "execution_count": 5,
   "id": "electoral-saying",
   "metadata": {},
   "outputs": [
    {
     "ename": "TypeError",
     "evalue": "'NoneType' object is not iterable",
     "output_type": "error",
     "traceback": [
      "\u001b[1;31m---------------------------------------------------------------------------\u001b[0m",
      "\u001b[1;31mTypeError\u001b[0m                                 Traceback (most recent call last)",
      "\u001b[1;32m<ipython-input-5-dc4560080016>\u001b[0m in \u001b[0;36m<module>\u001b[1;34m\u001b[0m\n\u001b[1;32m----> 1\u001b[1;33m \u001b[1;32mfor\u001b[0m \u001b[0mtunnus\u001b[0m \u001b[1;32min\u001b[0m \u001b[0mskooristik\u001b[0m\u001b[1;33m:\u001b[0m\u001b[1;33m\u001b[0m\u001b[1;33m\u001b[0m\u001b[0m\n\u001b[0m\u001b[0;32m      2\u001b[0m \u001b[1;33m\u001b[0m\u001b[0m\n\u001b[0;32m      3\u001b[0m     \u001b[0mandmed\u001b[0m \u001b[1;33m=\u001b[0m \u001b[0mskooristik\u001b[0m\u001b[1;33m.\u001b[0m\u001b[0mloc\u001b[0m\u001b[1;33m[\u001b[0m\u001b[0mskooristik\u001b[0m\u001b[1;33m[\u001b[0m\u001b[0mtunnus\u001b[0m\u001b[1;33m]\u001b[0m \u001b[1;33m!=\u001b[0m \u001b[1;33m-\u001b[0m\u001b[1;36m1\u001b[0m\u001b[1;33m]\u001b[0m\u001b[1;33m[\u001b[0m\u001b[0mtunnus\u001b[0m\u001b[1;33m]\u001b[0m\u001b[1;33m.\u001b[0m\u001b[0msort_values\u001b[0m\u001b[1;33m(\u001b[0m\u001b[1;33m)\u001b[0m\u001b[1;33m\u001b[0m\u001b[1;33m\u001b[0m\u001b[0m\n\u001b[0;32m      4\u001b[0m \u001b[1;33m\u001b[0m\u001b[0m\n\u001b[0;32m      5\u001b[0m     \u001b[0mplt\u001b[0m\u001b[1;33m.\u001b[0m\u001b[0mhist\u001b[0m\u001b[1;33m(\u001b[0m\u001b[0mandmed\u001b[0m\u001b[1;33m,\u001b[0m \u001b[0mbins\u001b[0m \u001b[1;33m=\u001b[0m \u001b[1;36m1000\u001b[0m\u001b[1;33m)\u001b[0m\u001b[1;33m\u001b[0m\u001b[1;33m\u001b[0m\u001b[0m\n",
      "\u001b[1;31mTypeError\u001b[0m: 'NoneType' object is not iterable"
     ]
    }
   ],
   "source": [
    "for tunnus in skooristik:\n",
    "\n",
    "    andmed = skooristik.loc[skooristik[tunnus] != -1][tunnus].sort_values()\n",
    "    \n",
    "    plt.hist(andmed, bins = 1000)\n",
    "    \n",
    "    plt.rcParams[\"figure.figsize\"] = (20,10)\n",
    "    \n",
    "    #plt.xticks([x * 0.1 for x in range(10)])\n",
    "    \n",
    "    plt.title(\"Skoor tunnusest: \" + tunnus)\n",
    "    \n",
    "    keskmine = andmed.mean()\n",
    "    \n",
    "    plt.savefig('Graafid/skoorid/{}.png'.format(tunnus), bbox_inches='tight')\n",
    "    \n",
    "    plt.close()"
   ]
  },
  {
   "cell_type": "code",
   "execution_count": null,
   "id": "atmospheric-coffee",
   "metadata": {},
   "outputs": [],
   "source": [
    "skooristik"
   ]
  },
  {
   "cell_type": "code",
   "execution_count": null,
   "id": "associate-hughes",
   "metadata": {},
   "outputs": [],
   "source": [
    "for dimensioon in ('formaalsus', 'spontaansus'):\n",
    "    skooristik.sort_values(by=dimensioon).to_csv(\"hinnangud_\" + dimensioon + \".csv\")"
   ]
  },
  {
   "cell_type": "code",
   "execution_count": null,
   "id": "sealed-elder",
   "metadata": {},
   "outputs": [],
   "source": [
    "skooristik.sort_values(by='formaalsus')"
   ]
  },
  {
   "cell_type": "markdown",
   "id": "6b30a19c",
   "metadata": {},
   "source": [
    "tunnuste suunad"
   ]
  },
  {
   "cell_type": "code",
   "execution_count": 7,
   "id": "80b0a468",
   "metadata": {},
   "outputs": [],
   "source": [
    "randmestik = pd.read_csv('../minikorpus/Randmestik.csv') "
   ]
  },
  {
   "cell_type": "code",
   "execution_count": 8,
   "id": "1b778b36",
   "metadata": {},
   "outputs": [],
   "source": [
    "tunnused = randmestik.drop([\"Unnamed: 0\", \"spontaansus\", \"formaalsus\"], axis = 1)"
   ]
  },
  {
   "cell_type": "code",
   "execution_count": 9,
   "id": "05839b2f",
   "metadata": {},
   "outputs": [],
   "source": [
    "for tulp in tunnused:\n",
    "    y = tunnused[tulp]\n",
    "    \n",
    "    for dim in ['spontaansus', 'formaalsus']:\n",
    "        \n",
    "        x = randmestik[dim]\n",
    "        \n",
    "        plt.plot(x, y, 'o')\n",
    "        plt.rcParams[\"figure.figsize\"] = (10,10)\n",
    "        plt.title(dim + \" x \" + tulp)\n",
    "        \n",
    "        m, b = np.polyfit(x, y, 1)\n",
    "        \n",
    "        plt.plot(x, m*x+b)\n",
    "        \n",
    "        plt.xlabel(dim)\n",
    "        plt.ylabel(tulp)\n",
    "        \n",
    "        plt.savefig('../minikorpus/graafid/{}.png'.format(\"/\".join([dim, tulp])), bbox_inches='tight')\n",
    "        \n",
    "        plt.close()"
   ]
  }
 ],
 "metadata": {
  "kernelspec": {
   "display_name": "Python 3",
   "language": "python",
   "name": "python3"
  },
  "language_info": {
   "codemirror_mode": {
    "name": "ipython",
    "version": 3
   },
   "file_extension": ".py",
   "mimetype": "text/x-python",
   "name": "python",
   "nbconvert_exporter": "python",
   "pygments_lexer": "ipython3",
   "version": "3.6.13"
  }
 },
 "nbformat": 4,
 "nbformat_minor": 5
}
