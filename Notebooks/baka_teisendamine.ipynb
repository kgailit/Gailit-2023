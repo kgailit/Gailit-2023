{
 "cells": [
  {
   "cell_type": "code",
   "execution_count": 2,
   "id": "4d16fc7d",
   "metadata": {},
   "outputs": [],
   "source": [
    "import json\n",
    "import os"
   ]
  },
  {
   "cell_type": "code",
   "execution_count": 4,
   "id": "35bc7bba",
   "metadata": {},
   "outputs": [],
   "source": [
    "source = \"../minikorpus/baka\"\n",
    "\n",
    "# Avab järjest kõik failid algkaustas\n",
    "for file in [f for f in os.listdir(source)]:\n",
    "    with open(os.path.join(source, file), \"r\", encoding=\"UTF-8\") as f:\n",
    "        andmed = json.load(f)\n",
    "        \n",
    "    andmed['formaalsus'] = (andmed['formaalsus'] + 1) / 2\n",
    "    andmed['spontaansus'] = (andmed['spontaansus'] + 1) / 2\n",
    "    \n",
    "    with open(os.path.join(\"../minikorpus/baka_teisendatud\", file), 'w', encoding=\"UTF-8\") as fw:\n",
    "        json.dump(andmed, fw, sort_keys=True, indent=4)"
   ]
  }
 ],
 "metadata": {
  "kernelspec": {
   "display_name": "Python 3",
   "language": "python",
   "name": "python3"
  },
  "language_info": {
   "codemirror_mode": {
    "name": "ipython",
    "version": 3
   },
   "file_extension": ".py",
   "mimetype": "text/x-python",
   "name": "python",
   "nbconvert_exporter": "python",
   "pygments_lexer": "ipython3",
   "version": "3.6.13"
  }
 },
 "nbformat": 4,
 "nbformat_minor": 5
}
