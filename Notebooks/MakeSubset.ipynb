{
 "cells": [
  {
   "cell_type": "code",
   "execution_count": 19,
   "id": "progressive-alloy",
   "metadata": {},
   "outputs": [],
   "source": [
    "import random\n",
    "import time\n",
    "import shutil\n",
    "import os\n",
    "import os.path\n",
    "from os import path"
   ]
  },
  {
   "cell_type": "code",
   "execution_count": 21,
   "id": "lucky-magnet",
   "metadata": {},
   "outputs": [],
   "source": [
    "folder_files = {}\n",
    "\n",
    "source = \"etnc19_web_2019_prevert_eraldatud/\"\n",
    "folders = [f for f in os.listdir(source)]\n",
    "\n",
    "for folder in folders:\n",
    "    folder_files[folder] = [f for f in os.listdir(os.path.join(source, folder) + \"/\")]"
   ]
  },
  {
   "cell_type": "code",
   "execution_count": 22,
   "id": "convenient-gregory",
   "metadata": {},
   "outputs": [],
   "source": [
    "arv1 = 100000\n",
    "arv2 = 0\n",
    "\n",
    "source = \"etnc19_web_2019_prevert_eraldatud/\"\n",
    "target = \"etnc19_web_2019_100000/\"\n",
    "\n",
    "os.makedirs(os.path.dirname(target), exist_ok=True)\n",
    "\n",
    "while arv1 > arv2:\n",
    "    \n",
    "    keys = list(folder_files.keys())\n",
    "    \n",
    "    random.shuffle(keys)\n",
    "    \n",
    "    folder = keys[0]\n",
    "    \n",
    "    files = folder_files[folder]\n",
    "    \n",
    "    random.shuffle(files)\n",
    "    \n",
    "    selected_file = files[0]\n",
    "    \n",
    "    full_filename = os.path.join(os.path.join(source, folder), selected_file)\n",
    "    copy_filename = os.path.join(target, selected_file)\n",
    "    \n",
    "    if len(files) == 1:\n",
    "        del folder_files[folder]\n",
    "    else:\n",
    "        folder_files[folder].remove(selected_file)\n",
    "        \n",
    "    with open(full_filename, \"r\", encoding = \"UTF´8\") as f:\n",
    "\n",
    "        lines = f.readlines()\n",
    "\n",
    "        pure = \"\"\n",
    "\n",
    "        line_nr = 0\n",
    "        \n",
    "        for line in lines:\n",
    "            line = line.strip()\n",
    "            if line == \"</p>\":\n",
    "                pure = pure[:-1] + \"\\n\"\n",
    "            elif line[0] == \"<\" and line[-1] == \">\":\n",
    "                continue\n",
    "            else:\n",
    "                pure += line + \" \"\n",
    "                line_nr += 1\n",
    "                if line_nr == 200:\n",
    "                    break\n",
    "\n",
    "        if len(pure) > 500:\n",
    "            with open(copy_filename, \"w\", encoding = \"UTF´8\") as fw:\n",
    "                fw.write(lines[0])\n",
    "                fw.write(pure)\n",
    "                \n",
    "            arv2 += 1"
   ]
  },
  {
   "cell_type": "code",
   "execution_count": 157,
   "id": "parallel-medicaid",
   "metadata": {},
   "outputs": [
    {
     "data": {
      "text/plain": [
       "29511"
      ]
     },
     "execution_count": 157,
     "metadata": {},
     "output_type": "execute_result"
    }
   ],
   "source": [
    "len(folder_files)"
   ]
  }
 ],
 "metadata": {
  "kernelspec": {
   "display_name": "Python 3",
   "language": "python",
   "name": "python3"
  },
  "language_info": {
   "codemirror_mode": {
    "name": "ipython",
    "version": 3
   },
   "file_extension": ".py",
   "mimetype": "text/x-python",
   "name": "python",
   "nbconvert_exporter": "python",
   "pygments_lexer": "ipython3",
   "version": "3.5.6"
  }
 },
 "nbformat": 4,
 "nbformat_minor": 5
}
