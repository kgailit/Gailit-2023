{
 "cells": [
  {
   "cell_type": "code",
   "execution_count": 3,
   "id": "ece6694d",
   "metadata": {},
   "outputs": [],
   "source": [
    "from estnltk import Text\n",
    "from estnltk.taggers import VabamorfTagger\n",
    "from estnltk.taggers import SpellCheckRetagger\n",
    "import json\n",
    "import os\n",
    "from collections import defaultdict\n",
    "import string \n",
    "import nltk\n",
    "from collections import Counter\n",
    "import re\n",
    "from estnltk.layer_operations import split_by"
   ]
  },
  {
   "cell_type": "code",
   "execution_count": 69,
   "id": "67562523",
   "metadata": {},
   "outputs": [],
   "source": [
    "def sõnaloendi_osaarv(oletamisega):\n",
    "    kokku = len(oletamisega.words)\n",
    "    loendites = defaultdict(lambda: 0)\n",
    "    \n",
    "    for key in loendite_loend.keys():\n",
    "        loend = loendite_loend[key]\n",
    "        loendites[key] = 0\n",
    "        for word in oletamisega.words:\n",
    "            sona = word.text.lower()\n",
    "            if sona in loend:\n",
    "                loendites[key] += 1\n",
    "                \n",
    "    for key in loendites.keys():\n",
    "        loendites[key] = loendites[key]/kokku\n",
    "        \n",
    "    return loendites"
   ]
  },
  {
   "cell_type": "code",
   "execution_count": 25,
   "id": "062b188e",
   "metadata": {},
   "outputs": [],
   "source": [
    "loendite_loend = defaultdict(lambda: list())\n",
    "\n",
    "for file in [f for f in os.listdir(\"..\\Loendid\\Leksikonid\")]:\n",
    "    with open(\"../Loendid/Leksikonid/\"+file, \"r\", encoding=\"UTF-8\") as fr:\n",
    "        for line in fr.readlines():\n",
    "            if line[0] == \"(\":\n",
    "                line = line.strip().split(\",\")[0][2:-1].strip().lower()\n",
    "                loendite_loend[file.split(\".\")[0]].append(line)"
   ]
  },
  {
   "cell_type": "code",
   "execution_count": 4,
   "id": "4f08117b",
   "metadata": {},
   "outputs": [],
   "source": [
    "oletamisega_morph_tagger = VabamorfTagger(guess=True, propername=True, disambiguate=True)"
   ]
  },
  {
   "cell_type": "code",
   "execution_count": 77,
   "id": "25117b57",
   "metadata": {},
   "outputs": [],
   "source": [
    "# Kaustade nimed\n",
    "source = \"../etnc19_web_2019_100000\"\n",
    "target1 = \"../etnc19_web_2019_sõnad\""
   ]
  },
  {
   "cell_type": "code",
   "execution_count": 78,
   "id": "636171a2",
   "metadata": {},
   "outputs": [],
   "source": [
    "sonaloend = defaultdict(lambda: defaultdict(lambda: 0))\n",
    "\n",
    "for file in [f for f in os.listdir(source)]:\n",
    "    with open(os.path.join(source, file), \"r\", encoding=\"UTF-8\") as f:\n",
    "        pure = \"\".join(f.readlines()[1:])\n",
    "        oletamisega = Text(pure)\n",
    "        oletamisega.tag_layer(['words', 'sentences', 'compound_tokens'])\n",
    "        oletamisega_morph_tagger.tag( oletamisega )\n",
    "    \n",
    "    sonastik = sõnaloendi_osaarv(oletamisega)\n",
    "    \n",
    "    with open(os.path.join(target1, file), \"w\", encoding=\"UTF-8\") as fw:\n",
    "        json.dump(sonastik, fw, sort_keys=True, indent=4, ensure_ascii=False)"
   ]
  },
  {
   "cell_type": "code",
   "execution_count": null,
   "id": "3481c7b8",
   "metadata": {},
   "outputs": [],
   "source": [
    "sonaloend"
   ]
  },
  {
   "cell_type": "code",
   "execution_count": null,
   "id": "6f50c190",
   "metadata": {},
   "outputs": [],
   "source": [
    "for key in andmestik.keys():\n",
    "\n",
    "    andmed = andmestik.loc[andmestik[tunnus] != -1][tunnus].sort_values()\n",
    "    \n",
    "    plt.hist(andmed, bins = 500)\n",
    "    \n",
    "    plt.rcParams[\"figure.figsize\"] = (20,10)\n",
    "    \n",
    "    #plt.xticks([x * 0.1 for x in range(10)])\n",
    "    \n",
    "    plt.title(\"Alamkorpuse \" + tunnus)\n",
    "    \n",
    "    keskmine = andmed.mean()\n",
    "    \n",
    "    plt.axvline(keskmine, color='red', linestyle='dashed', linewidth=1)\n",
    "    \n",
    "    min_ylim, max_ylim = plt.ylim()\n",
    "    plt.text(keskmine, max_ylim*1.01, 'Mean: {:.2f}'.format(keskmine), color='red')\n",
    "    \n",
    "    \n",
    "    if tunnus in ['TTR', 'lemmapikkuse_osaarv', 'käändsõnade_osaarv']:\n",
    "        plt.figtext(0.5, -0.3, \"{}\".format(andmed.describe(percentiles=np.arange(0, 1, 1/11))), style='italic',\n",
    "            bbox={'facecolor': 'red', 'alpha': 0, 'pad': 10})\n",
    "    else:\n",
    "        plt.figtext(0.5, -0.3, \"{}\".format(andmed.describe(percentiles=np.arange(0, 1, 1/6))), style='italic',\n",
    "            bbox={'facecolor': 'red', 'alpha': 0, 'pad': 10})\n",
    "    \n",
    "    plt.savefig('../Graafid/{}.png'.format(tunnus), bbox_inches='tight')\n",
    "    \n",
    "    plt.close()"
   ]
  }
 ],
 "metadata": {
  "kernelspec": {
   "display_name": "Python 3",
   "language": "python",
   "name": "python3"
  },
  "language_info": {
   "codemirror_mode": {
    "name": "ipython",
    "version": 3
   },
   "file_extension": ".py",
   "mimetype": "text/x-python",
   "name": "python",
   "nbconvert_exporter": "python",
   "pygments_lexer": "ipython3",
   "version": "3.6.13"
  }
 },
 "nbformat": 4,
 "nbformat_minor": 5
}
