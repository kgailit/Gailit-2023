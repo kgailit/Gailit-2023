{
 "cells": [
  {
   "cell_type": "code",
   "execution_count": 1,
   "id": "55d97220",
   "metadata": {},
   "outputs": [],
   "source": [
    "import os"
   ]
  },
  {
   "cell_type": "code",
   "execution_count": 2,
   "id": "bfa7b91c",
   "metadata": {},
   "outputs": [],
   "source": [
    "hinda = \"katse.txt\"\n",
    "kaust = \"katse\".strip() + \"/\""
   ]
  },
  {
   "cell_type": "code",
   "execution_count": 3,
   "id": "e13c62a8",
   "metadata": {},
   "outputs": [],
   "source": [
    "os.makedirs(os.path.dirname(kaust), exist_ok=True)"
   ]
  }
 ],
 "metadata": {
  "kernelspec": {
   "display_name": "Python 3",
   "language": "python",
   "name": "python3"
  },
  "language_info": {
   "codemirror_mode": {
    "name": "ipython",
    "version": 3
   },
   "file_extension": ".py",
   "mimetype": "text/x-python",
   "name": "python",
   "nbconvert_exporter": "python",
   "pygments_lexer": "ipython3",
   "version": "3.6.13"
  }
 },
 "nbformat": 4,
 "nbformat_minor": 5
}
